{
 "cells": [
  {
   "cell_type": "code",
   "execution_count": 1,
   "id": "f6a6595b",
   "metadata": {
    "ExecuteTime": {
     "end_time": "2023-05-07T16:50:59.563076Z",
     "start_time": "2023-05-07T16:50:58.894205Z"
    }
   },
   "outputs": [],
   "source": [
    "import torch\n",
    "import numpy as np"
   ]
  },
  {
   "cell_type": "markdown",
   "id": "1536787a",
   "metadata": {},
   "source": [
    "## Basics"
   ]
  },
  {
   "cell_type": "code",
   "execution_count": 2,
   "id": "144845d1",
   "metadata": {
    "ExecuteTime": {
     "end_time": "2023-05-07T16:50:59.572070Z",
     "start_time": "2023-05-07T16:50:59.566216Z"
    }
   },
   "outputs": [
    {
     "name": "stdout",
     "output_type": "stream",
     "text": [
      "tensor([2.5568e+05, 4.5891e-41])\n",
      "tensor([[4.3700e-38, 0.0000e+00, 1.5078e-35],\n",
      "        [0.0000e+00, 8.9683e-44, 0.0000e+00]])\n",
      "tensor([[[1.7770e+14, 4.5891e-41, 1.7770e+14],\n",
      "         [4.5891e-41, 4.4842e-44, 0.0000e+00]],\n",
      "\n",
      "        [[1.5695e-43, 0.0000e+00, 8.2508e-42],\n",
      "         [0.0000e+00, 0.0000e+00, 0.0000e+00]]])\n"
     ]
    }
   ],
   "source": [
    "x = torch.empty(2)\n",
    "print(x)\n",
    "x = torch.empty(2, 3)\n",
    "print(x)\n",
    "x = torch.empty(2, 2, 3)\n",
    "print(x)"
   ]
  },
  {
   "cell_type": "code",
   "execution_count": 3,
   "id": "ca8e329c",
   "metadata": {
    "ExecuteTime": {
     "end_time": "2023-05-07T16:50:59.577847Z",
     "start_time": "2023-05-07T16:50:59.573354Z"
    }
   },
   "outputs": [
    {
     "name": "stdout",
     "output_type": "stream",
     "text": [
      "tensor([[0.0706, 0.3740, 0.3657],\n",
      "        [0.9808, 0.3887, 0.5753]])\n"
     ]
    }
   ],
   "source": [
    "x = torch.rand(2, 3)\n",
    "print(x)"
   ]
  },
  {
   "cell_type": "code",
   "execution_count": 4,
   "id": "9f97f541",
   "metadata": {
    "ExecuteTime": {
     "end_time": "2023-05-07T16:50:59.594941Z",
     "start_time": "2023-05-07T16:50:59.579277Z"
    }
   },
   "outputs": [
    {
     "name": "stdout",
     "output_type": "stream",
     "text": [
      "tensor([[0., 0., 0.],\n",
      "        [0., 0., 0.]])\n"
     ]
    }
   ],
   "source": [
    "x = torch.zeros(2, 3)\n",
    "print(x)"
   ]
  },
  {
   "cell_type": "code",
   "execution_count": 5,
   "id": "b22390a0",
   "metadata": {
    "ExecuteTime": {
     "end_time": "2023-05-07T16:50:59.599929Z",
     "start_time": "2023-05-07T16:50:59.596398Z"
    }
   },
   "outputs": [
    {
     "name": "stdout",
     "output_type": "stream",
     "text": [
      "torch.float32\n",
      "tensor([[1., 1., 1.],\n",
      "        [1., 1., 1.]])\n"
     ]
    }
   ],
   "source": [
    "x = torch.ones(2, 3)\n",
    "print(x.dtype)\n",
    "print(x)"
   ]
  },
  {
   "cell_type": "code",
   "execution_count": 6,
   "id": "cc3f54a2",
   "metadata": {
    "ExecuteTime": {
     "end_time": "2023-05-07T16:50:59.605963Z",
     "start_time": "2023-05-07T16:50:59.601231Z"
    }
   },
   "outputs": [
    {
     "name": "stdout",
     "output_type": "stream",
     "text": [
      "tensor([[0.0297, 0.3259, 0.0560],\n",
      "        [0.2741, 0.7058, 0.1326]], dtype=torch.float64)\n",
      "tensor([[0.9126, 0.2129, 0.4351],\n",
      "        [0.7324, 0.1162, 0.1201]], dtype=torch.float16)\n",
      "torch.Size([2, 3])\n"
     ]
    }
   ],
   "source": [
    "x = torch.rand(2, 3, dtype=torch.double)\n",
    "print(x)\n",
    "x = torch.rand(2, 3, dtype=torch.float16)\n",
    "print(x)\n",
    "print(x.size())"
   ]
  },
  {
   "cell_type": "code",
   "execution_count": 7,
   "id": "112a9a52",
   "metadata": {
    "ExecuteTime": {
     "end_time": "2023-05-07T16:50:59.612315Z",
     "start_time": "2023-05-07T16:50:59.608683Z"
    }
   },
   "outputs": [
    {
     "name": "stdout",
     "output_type": "stream",
     "text": [
      "tensor([1, 2, 3])\n"
     ]
    }
   ],
   "source": [
    "x = torch.tensor([1, 2, 3])\n",
    "print(x)"
   ]
  },
  {
   "cell_type": "code",
   "execution_count": 8,
   "id": "918fa574",
   "metadata": {
    "ExecuteTime": {
     "end_time": "2023-05-07T16:50:59.618936Z",
     "start_time": "2023-05-07T16:50:59.613911Z"
    }
   },
   "outputs": [
    {
     "name": "stdout",
     "output_type": "stream",
     "text": [
      "tensor([[0.9421, 1.1798],\n",
      "        [0.9029, 0.9756]])\n",
      "tensor([[0.9421, 1.1798],\n",
      "        [0.9029, 0.9756]])\n",
      "tensor([[0.9421, 1.1798],\n",
      "        [0.9029, 0.9756]])\n"
     ]
    }
   ],
   "source": [
    "x = torch.rand(2, 2)\n",
    "y = torch.rand(2, 2)\n",
    "print(x + y)\n",
    "print(torch.add(x, y))\n",
    "y.add_(x) # Inplace addition\n",
    "print(y)"
   ]
  },
  {
   "cell_type": "code",
   "execution_count": 9,
   "id": "1ea7902d",
   "metadata": {
    "ExecuteTime": {
     "end_time": "2023-05-07T16:50:59.624784Z",
     "start_time": "2023-05-07T16:50:59.620062Z"
    }
   },
   "outputs": [
    {
     "name": "stdout",
     "output_type": "stream",
     "text": [
      "tensor([[0.4497, 0.8645, 0.9007],\n",
      "        [0.1759, 0.6925, 0.6840],\n",
      "        [0.0381, 0.3421, 0.2394],\n",
      "        [0.2476, 0.8769, 0.0895],\n",
      "        [0.0600, 0.7493, 0.3580]])\n",
      "tensor(0.6925)\n",
      "0.6924746632575989\n"
     ]
    }
   ],
   "source": [
    "x = torch.rand(5, 3)\n",
    "print(x)\n",
    "print(x[1, 1])\n",
    "print(x[1, 1].item())"
   ]
  },
  {
   "cell_type": "code",
   "execution_count": 10,
   "id": "345f651b",
   "metadata": {
    "ExecuteTime": {
     "end_time": "2023-05-07T16:50:59.630907Z",
     "start_time": "2023-05-07T16:50:59.625939Z"
    }
   },
   "outputs": [
    {
     "name": "stdout",
     "output_type": "stream",
     "text": [
      "tensor([[0.8569, 0.1575, 0.7283, 0.0938],\n",
      "        [0.8736, 0.0393, 0.3992, 0.6264],\n",
      "        [0.8426, 0.3426, 0.7762, 0.2920],\n",
      "        [0.2242, 0.3404, 0.5155, 0.8650]])\n",
      "tensor([0.8569, 0.1575, 0.7283, 0.0938, 0.8736, 0.0393, 0.3992, 0.6264, 0.8426,\n",
      "        0.3426, 0.7762, 0.2920, 0.2242, 0.3404, 0.5155, 0.8650])\n",
      "tensor([[0.8569, 0.1575, 0.7283, 0.0938, 0.8736, 0.0393, 0.3992, 0.6264],\n",
      "        [0.8426, 0.3426, 0.7762, 0.2920, 0.2242, 0.3404, 0.5155, 0.8650]])\n"
     ]
    }
   ],
   "source": [
    "x = torch.rand(4, 4)\n",
    "print(x)\n",
    "y = x.view(16)\n",
    "print(y)\n",
    "y = x.view(-1, 8) # Pytorch automatically identifies the other dimension as 2\n",
    "print(y)"
   ]
  },
  {
   "cell_type": "code",
   "execution_count": 11,
   "id": "38ee8376",
   "metadata": {
    "ExecuteTime": {
     "end_time": "2023-05-07T16:50:59.636587Z",
     "start_time": "2023-05-07T16:50:59.632021Z"
    }
   },
   "outputs": [
    {
     "name": "stdout",
     "output_type": "stream",
     "text": [
      "tensor([1., 1., 1., 1., 1.])\n",
      "[1. 1. 1. 1. 1.]\n",
      "tensor([2., 2., 2., 2., 2.])\n",
      "[2. 2. 2. 2. 2.]\n"
     ]
    }
   ],
   "source": [
    "a = torch.ones(5)\n",
    "print(a)\n",
    "b = a.numpy()\n",
    "print(b)\n",
    "\n",
    "a.add_(1)\n",
    "print(a)\n",
    "print(b)"
   ]
  },
  {
   "cell_type": "code",
   "execution_count": 12,
   "id": "10c04489",
   "metadata": {
    "ExecuteTime": {
     "end_time": "2023-05-07T16:50:59.642283Z",
     "start_time": "2023-05-07T16:50:59.637641Z"
    }
   },
   "outputs": [
    {
     "name": "stdout",
     "output_type": "stream",
     "text": [
      "[1. 1. 1. 1. 1.]\n",
      "tensor([1., 1., 1., 1., 1.], dtype=torch.float64)\n",
      "[2. 2. 2. 2. 2.]\n",
      "tensor([2., 2., 2., 2., 2.], dtype=torch.float64)\n"
     ]
    }
   ],
   "source": [
    "a = np.ones(5)\n",
    "print(a)\n",
    "b = torch.from_numpy(a)\n",
    "print(b)\n",
    "\n",
    "a += 1\n",
    "print(a)\n",
    "print(b)"
   ]
  },
  {
   "cell_type": "code",
   "execution_count": 13,
   "id": "41a59013",
   "metadata": {
    "ExecuteTime": {
     "end_time": "2023-05-07T16:50:59.650106Z",
     "start_time": "2023-05-07T16:50:59.644517Z"
    }
   },
   "outputs": [
    {
     "data": {
      "text/plain": [
       "False"
      ]
     },
     "execution_count": 13,
     "metadata": {},
     "output_type": "execute_result"
    }
   ],
   "source": [
    "torch.cuda.is_available()"
   ]
  },
  {
   "cell_type": "code",
   "execution_count": 14,
   "id": "ac0ae05e",
   "metadata": {
    "ExecuteTime": {
     "end_time": "2023-05-07T16:50:59.658938Z",
     "start_time": "2023-05-07T16:50:59.654851Z"
    }
   },
   "outputs": [],
   "source": [
    "if torch.cuda.is_available():\n",
    "    x = torch.rand(5, device=torch.device(\"cuda\"))\n",
    "    y = torch.ones(5)\n",
    "    y = y.to(torch.device(\"cuda\"))\n",
    "    z = x + y\n",
    "    z = z.to(\"cpu\").numpy()"
   ]
  },
  {
   "cell_type": "markdown",
   "id": "7d0e797a",
   "metadata": {},
   "source": [
    "## Autograd"
   ]
  },
  {
   "cell_type": "code",
   "execution_count": 15,
   "id": "bf642ef0",
   "metadata": {
    "ExecuteTime": {
     "end_time": "2023-05-07T16:50:59.667250Z",
     "start_time": "2023-05-07T16:50:59.660763Z"
    }
   },
   "outputs": [
    {
     "name": "stdout",
     "output_type": "stream",
     "text": [
      "tensor([ 0.0091, -0.2331,  1.3855], requires_grad=True)\n",
      "None\n"
     ]
    }
   ],
   "source": [
    "x = torch.randn(3, requires_grad=True)\n",
    "print(x)\n",
    "print(x.grad)"
   ]
  },
  {
   "cell_type": "code",
   "execution_count": 16,
   "id": "226a84ce",
   "metadata": {
    "ExecuteTime": {
     "end_time": "2023-05-07T16:50:59.672394Z",
     "start_time": "2023-05-07T16:50:59.669033Z"
    }
   },
   "outputs": [
    {
     "name": "stdout",
     "output_type": "stream",
     "text": [
      "tensor([2.0091, 1.7669, 3.3855], grad_fn=<AddBackward0>)\n"
     ]
    }
   ],
   "source": [
    "y = x + 2 # creates a computational graph\n",
    "print(y) # grad_fn=<AddBackward0> is for backpropogation for addition"
   ]
  },
  {
   "cell_type": "code",
   "execution_count": 17,
   "id": "27a23e95",
   "metadata": {
    "ExecuteTime": {
     "end_time": "2023-05-07T16:50:59.677609Z",
     "start_time": "2023-05-07T16:50:59.673572Z"
    }
   },
   "outputs": [
    {
     "name": "stdout",
     "output_type": "stream",
     "text": [
      "tensor([ 8.0730,  6.2442, 22.9231], grad_fn=<MulBackward0>)\n"
     ]
    }
   ],
   "source": [
    "z = y * y * 2\n",
    "print(z) # grad_fn=<MulBackward0> is for backpropogation for multiplication"
   ]
  },
  {
   "cell_type": "code",
   "execution_count": 18,
   "id": "3d058a35",
   "metadata": {
    "ExecuteTime": {
     "end_time": "2023-05-07T16:50:59.683218Z",
     "start_time": "2023-05-07T16:50:59.679411Z"
    }
   },
   "outputs": [
    {
     "name": "stdout",
     "output_type": "stream",
     "text": [
      "tensor(12.4134, grad_fn=<MeanBackward0>)\n"
     ]
    }
   ],
   "source": [
    "z = z.mean()\n",
    "print(z) # grad_fn=<MeanBackward0> is for backpropogation for mean"
   ]
  },
  {
   "cell_type": "code",
   "execution_count": 19,
   "id": "46f67139",
   "metadata": {
    "ExecuteTime": {
     "end_time": "2023-05-07T16:50:59.689408Z",
     "start_time": "2023-05-07T16:50:59.685420Z"
    }
   },
   "outputs": [
    {
     "name": "stdout",
     "output_type": "stream",
     "text": [
      "tensor([2.6788, 2.3559, 4.5140])\n"
     ]
    }
   ],
   "source": [
    "z.backward() # dz/dx\n",
    "print(x.grad)"
   ]
  },
  {
   "cell_type": "code",
   "execution_count": 20,
   "id": "13bdbe9c",
   "metadata": {
    "ExecuteTime": {
     "end_time": "2023-05-07T16:50:59.698483Z",
     "start_time": "2023-05-07T16:50:59.690599Z"
    }
   },
   "outputs": [
    {
     "name": "stdout",
     "output_type": "stream",
     "text": [
      "tensor([ 1.3429, -1.0649, -0.9549], requires_grad=True)\n",
      "tensor([ 1.3429, -1.0649, -0.9549])\n"
     ]
    }
   ],
   "source": [
    "x = torch.randn(3, requires_grad=True)\n",
    "print(x)\n",
    "\n",
    "x.requires_grad_(False)\n",
    "print(x)"
   ]
  },
  {
   "cell_type": "code",
   "execution_count": 21,
   "id": "f72cc777",
   "metadata": {
    "ExecuteTime": {
     "end_time": "2023-05-07T16:50:59.703645Z",
     "start_time": "2023-05-07T16:50:59.699697Z"
    }
   },
   "outputs": [
    {
     "name": "stdout",
     "output_type": "stream",
     "text": [
      "tensor([-0.1735,  2.5715, -1.7201], requires_grad=True)\n",
      "tensor([-0.1735,  2.5715, -1.7201])\n"
     ]
    }
   ],
   "source": [
    "x = torch.randn(3, requires_grad=True)\n",
    "print(x)\n",
    "\n",
    "y = x.detach()\n",
    "print(y)"
   ]
  },
  {
   "cell_type": "code",
   "execution_count": 22,
   "id": "bce0b18f",
   "metadata": {
    "ExecuteTime": {
     "end_time": "2023-05-07T16:50:59.710711Z",
     "start_time": "2023-05-07T16:50:59.706414Z"
    }
   },
   "outputs": [
    {
     "name": "stdout",
     "output_type": "stream",
     "text": [
      "tensor([0.2695, 0.1588, 1.6959], requires_grad=True)\n",
      "tensor([2.2695, 2.1588, 3.6959])\n"
     ]
    }
   ],
   "source": [
    "x = torch.randn(3, requires_grad=True)\n",
    "print(x)\n",
    "\n",
    "with torch.no_grad():\n",
    "    y = x + 2\n",
    "    print(y)"
   ]
  },
  {
   "cell_type": "markdown",
   "id": "38f92fcc",
   "metadata": {},
   "source": [
    "## Gradient calculation - Basic\n",
    "- f(x) = y_hat = w * x (where x is input and y is output)\n",
    "- Say x = 1, y = 2, w = 1\n",
    "- Step1: forward\n",
    "    - y_hat = w * x = 1\n",
    "    - S = y_hat - y = -1\n",
    "    - Loss = (S)^2 = 1\n",
    "- Step2: local gradients\n",
    "    - dLoss/dS = dS^2/dS = 2S\n",
    "    - dS/dy_hat = d(y_hat - y)/d(y_hat) = 1\n",
    "    - dy_hat/dw = d(w * x)/d(w) = x\n",
    "- Step3: Backward pass\n",
    "    - dLoss/dy_hat = (dLoss/dS) * (dS/dy_hat) = 2S = 2 * -1 = -2\n",
    "    - dLoss/dw = (dLoss/dy_hat) * (dy_hat/dw) = 2 * x = -2 * 1 = -2"
   ]
  },
  {
   "cell_type": "code",
   "execution_count": 23,
   "id": "ca06c079",
   "metadata": {
    "ExecuteTime": {
     "end_time": "2023-05-07T16:50:59.719618Z",
     "start_time": "2023-05-07T16:50:59.712391Z"
    }
   },
   "outputs": [
    {
     "name": "stdout",
     "output_type": "stream",
     "text": [
      "tensor(-2.)\n"
     ]
    }
   ],
   "source": [
    "x = torch.tensor(1.0)\n",
    "y = torch.tensor(2.0)\n",
    "\n",
    "w = torch.tensor(1.0, requires_grad = True) # to compute local gradients\n",
    "\n",
    "# forward pass and compute the loss\n",
    "y_hat = w * x\n",
    "loss = (y_hat - y)**2\n",
    "\n",
    "# backward pass\n",
    "loss.backward()\n",
    "print(w.grad)\n",
    "\n",
    "# update weights\n",
    "# next forward and backward pass - repeat"
   ]
  },
  {
   "cell_type": "markdown",
   "id": "36febf7f",
   "metadata": {},
   "source": [
    "## Gradient calculation - Linear regression\n",
    "- f = w * x\n",
    "\n",
    "### Manually using numpy"
   ]
  },
  {
   "cell_type": "code",
   "execution_count": 24,
   "id": "216da5ae",
   "metadata": {
    "ExecuteTime": {
     "end_time": "2023-05-07T16:50:59.731313Z",
     "start_time": "2023-05-07T16:50:59.721018Z"
    }
   },
   "outputs": [
    {
     "name": "stdout",
     "output_type": "stream",
     "text": [
      "Prediction before training: f(5) = 0.000\n",
      "Epoch: 1, w = 1.200, loss = 30.00000000\n",
      "Epoch: 6, w = 1.992, loss = 0.00314570\n",
      "Epoch: 11, w = 2.000, loss = 0.00000033\n",
      "Epoch: 16, w = 2.000, loss = 0.00000000\n",
      "Epoch: 21, w = 2.000, loss = 0.00000000\n",
      "Epoch: 26, w = 2.000, loss = 0.00000000\n",
      "Epoch: 31, w = 2.000, loss = 0.00000000\n",
      "Epoch: 36, w = 2.000, loss = 0.00000000\n",
      "Epoch: 41, w = 2.000, loss = 0.00000000\n",
      "Epoch: 46, w = 2.000, loss = 0.00000000\n",
      "Epoch: 51, w = 2.000, loss = 0.00000000\n",
      "Epoch: 56, w = 2.000, loss = 0.00000000\n",
      "Epoch: 61, w = 2.000, loss = 0.00000000\n",
      "Epoch: 66, w = 2.000, loss = 0.00000000\n",
      "Epoch: 71, w = 2.000, loss = 0.00000000\n",
      "Epoch: 76, w = 2.000, loss = 0.00000000\n",
      "Epoch: 81, w = 2.000, loss = 0.00000000\n",
      "Epoch: 86, w = 2.000, loss = 0.00000000\n",
      "Epoch: 91, w = 2.000, loss = 0.00000000\n",
      "Epoch: 96, w = 2.000, loss = 0.00000000\n",
      "Prediction after training: f(5) = 10.000\n"
     ]
    }
   ],
   "source": [
    "X = np.array([1, 2, 3, 4], dtype=np.float32) # Training inputs\n",
    "y = np.array([2, 4, 6, 8], dtype=np.float32) # Outputs\n",
    "\n",
    "w = 0.0\n",
    "\n",
    "# model prediction\n",
    "def forward(x):\n",
    "    return w * x\n",
    "\n",
    "# loss = MSE\n",
    "def loss(y, y_hat):\n",
    "    return ((y_hat - y)**2).mean()\n",
    "\n",
    "# gradient of loss\n",
    "# J = MSE = 1/N * (w*x - y) ** 2\n",
    "# dJ/dw = 1/N 2x (w*x - y)\n",
    "def gradient(x, y, y_hat):\n",
    "    return np.dot(2*x, y_hat-y).mean()\n",
    "\n",
    "print(f\"Prediction before training: f(5) = {forward(5):.3f}\")\n",
    "\n",
    "# Training\n",
    "learning_rate = 0.01\n",
    "n_epochs = 100\n",
    "\n",
    "for epoch in range(n_epochs):\n",
    "    # prediction = forward pass\n",
    "    y_hat = forward(X)\n",
    "    \n",
    "    # loss\n",
    "    l = loss(y, y_hat)\n",
    "    \n",
    "    # gradients\n",
    "    dw = gradient(X, y, y_hat)\n",
    "    \n",
    "    # update weights\n",
    "    w -= learning_rate * dw\n",
    "    \n",
    "    if epoch % 5 == 0:\n",
    "        print(f\"Epoch: {epoch + 1}, w = {w:.3f}, loss = {l:.8f}\")\n",
    "        \n",
    "print(f\"Prediction after training: f(5) = {forward(5):.3f}\")"
   ]
  },
  {
   "cell_type": "markdown",
   "id": "51c6c1de",
   "metadata": {},
   "source": [
    "### Using torch - manual loss & optimizer"
   ]
  },
  {
   "cell_type": "code",
   "execution_count": 25,
   "id": "02d9ccb8",
   "metadata": {
    "ExecuteTime": {
     "end_time": "2023-05-07T16:50:59.751849Z",
     "start_time": "2023-05-07T16:50:59.733354Z"
    }
   },
   "outputs": [
    {
     "name": "stdout",
     "output_type": "stream",
     "text": [
      "Prediction before training: f(5) = 0.000\n",
      "Epoch: 1, w = 0.300, loss = 30.00000000\n",
      "Epoch: 6, w = 1.246, loss = 5.90623236\n",
      "Epoch: 11, w = 1.665, loss = 1.16278565\n",
      "Epoch: 16, w = 1.851, loss = 0.22892261\n",
      "Epoch: 21, w = 1.934, loss = 0.04506890\n",
      "Epoch: 26, w = 1.971, loss = 0.00887291\n",
      "Epoch: 31, w = 1.987, loss = 0.00174685\n",
      "Epoch: 36, w = 1.994, loss = 0.00034392\n",
      "Epoch: 41, w = 1.997, loss = 0.00006770\n",
      "Epoch: 46, w = 1.999, loss = 0.00001333\n",
      "Epoch: 51, w = 1.999, loss = 0.00000262\n",
      "Epoch: 56, w = 2.000, loss = 0.00000052\n",
      "Epoch: 61, w = 2.000, loss = 0.00000010\n",
      "Epoch: 66, w = 2.000, loss = 0.00000002\n",
      "Epoch: 71, w = 2.000, loss = 0.00000000\n",
      "Epoch: 76, w = 2.000, loss = 0.00000000\n",
      "Epoch: 81, w = 2.000, loss = 0.00000000\n",
      "Epoch: 86, w = 2.000, loss = 0.00000000\n",
      "Epoch: 91, w = 2.000, loss = 0.00000000\n",
      "Epoch: 96, w = 2.000, loss = 0.00000000\n",
      "Prediction after training: f(5) = 10.000\n"
     ]
    }
   ],
   "source": [
    "X = torch.tensor([1, 2, 3, 4], dtype=torch.float32) # Training inputs\n",
    "y = torch.tensor([2, 4, 6, 8], dtype=torch.float32) # Outputs\n",
    "\n",
    "w = torch.tensor(0.0, dtype=torch.float32, requires_grad=True)\n",
    "\n",
    "# model prediction\n",
    "def forward(x):\n",
    "    return w * x\n",
    "\n",
    "# loss = MSE\n",
    "def loss(y, y_hat):\n",
    "    return ((y_hat - y)**2).mean()\n",
    "\n",
    "print(f\"Prediction before training: f(5) = {forward(5):.3f}\")\n",
    "\n",
    "# Training\n",
    "learning_rate = 0.01\n",
    "n_epochs = 100\n",
    "\n",
    "for epoch in range(n_epochs):\n",
    "    # prediction = forward pass\n",
    "    y_hat = forward(X)\n",
    "    \n",
    "    # loss\n",
    "    l = loss(y, y_hat)\n",
    "    \n",
    "    # gradients\n",
    "    l.backward() # dl/dw\n",
    "    \n",
    "    # update weights\n",
    "    with torch.no_grad():\n",
    "        w -= learning_rate * w.grad\n",
    "        \n",
    "    # zero the gradients\n",
    "    w.grad.zero_() # inplace\n",
    "    \n",
    "    if epoch % 5 == 0:\n",
    "        print(f\"Epoch: {epoch + 1}, w = {w:.3f}, loss = {l:.8f}\")\n",
    "        \n",
    "print(f\"Prediction after training: f(5) = {forward(5):.3f}\")"
   ]
  },
  {
   "cell_type": "markdown",
   "id": "0731d649",
   "metadata": {},
   "source": [
    "### Using torch - semi automation\n",
    "1) Design model (input_size, output_size, forward pass)\n",
    "\n",
    "2) Construct loss & optimizer\n",
    "\n",
    "3) Training loop\n",
    "\n",
    "    - forward pass: compute prediction\n",
    "    - backward pass: compute gradients\n",
    "    - update weights"
   ]
  },
  {
   "cell_type": "code",
   "execution_count": 26,
   "id": "1f75c8d8",
   "metadata": {
    "ExecuteTime": {
     "end_time": "2023-05-07T16:50:59.779863Z",
     "start_time": "2023-05-07T16:50:59.752946Z"
    }
   },
   "outputs": [
    {
     "name": "stdout",
     "output_type": "stream",
     "text": [
      "Prediction before training: f(5) = 0.000\n",
      "Epoch: 1, w = 0.300, loss = 30.00000000\n",
      "Epoch: 6, w = 1.246, loss = 5.90623236\n",
      "Epoch: 11, w = 1.665, loss = 1.16278565\n",
      "Epoch: 16, w = 1.851, loss = 0.22892261\n",
      "Epoch: 21, w = 1.934, loss = 0.04506890\n",
      "Epoch: 26, w = 1.971, loss = 0.00887291\n",
      "Epoch: 31, w = 1.987, loss = 0.00174685\n",
      "Epoch: 36, w = 1.994, loss = 0.00034392\n",
      "Epoch: 41, w = 1.997, loss = 0.00006770\n",
      "Epoch: 46, w = 1.999, loss = 0.00001333\n",
      "Epoch: 51, w = 1.999, loss = 0.00000262\n",
      "Epoch: 56, w = 2.000, loss = 0.00000052\n",
      "Epoch: 61, w = 2.000, loss = 0.00000010\n",
      "Epoch: 66, w = 2.000, loss = 0.00000002\n",
      "Epoch: 71, w = 2.000, loss = 0.00000000\n",
      "Epoch: 76, w = 2.000, loss = 0.00000000\n",
      "Epoch: 81, w = 2.000, loss = 0.00000000\n",
      "Epoch: 86, w = 2.000, loss = 0.00000000\n",
      "Epoch: 91, w = 2.000, loss = 0.00000000\n",
      "Epoch: 96, w = 2.000, loss = 0.00000000\n",
      "Prediction after training: f(5) = 10.000\n"
     ]
    }
   ],
   "source": [
    "import torch.nn as nn\n",
    "\n",
    "X = torch.tensor([1, 2, 3, 4], dtype=torch.float32) # Training inputs\n",
    "y = torch.tensor([2, 4, 6, 8], dtype=torch.float32) # Outputs\n",
    "\n",
    "w = torch.tensor(0.0, dtype=torch.float32, requires_grad=True)\n",
    "\n",
    "# model prediction\n",
    "def forward(x):\n",
    "    return w * x\n",
    "\n",
    "print(f\"Prediction before training: f(5) = {forward(5):.3f}\")\n",
    "\n",
    "# Training\n",
    "learning_rate = 0.01\n",
    "n_epochs = 100\n",
    "\n",
    "# loss = MSE\n",
    "loss = nn.MSELoss()\n",
    "optimizer = torch.optim.SGD([w], lr=learning_rate)\n",
    "\n",
    "for epoch in range(n_epochs):\n",
    "    # prediction = forward pass\n",
    "    y_hat = forward(X)\n",
    "    \n",
    "    # loss\n",
    "    l = loss(y, y_hat)\n",
    "    \n",
    "    # gradients\n",
    "    l.backward() # dl/dw\n",
    "    \n",
    "    # update weights\n",
    "    optimizer.step()\n",
    "    \n",
    "    # zero the gradients\n",
    "    optimizer.zero_grad() # inplace\n",
    "    \n",
    "    if epoch % 5 == 0:\n",
    "        print(f\"Epoch: {epoch + 1}, w = {w:.3f}, loss = {l:.8f}\")\n",
    "        \n",
    "print(f\"Prediction after training: f(5) = {forward(5):.3f}\")"
   ]
  },
  {
   "cell_type": "markdown",
   "id": "f18690a1",
   "metadata": {
    "ExecuteTime": {
     "end_time": "2023-05-06T17:10:27.269860Z",
     "start_time": "2023-05-06T17:10:27.267013Z"
    }
   },
   "source": [
    "### Using torch - full automation\n",
    "1) Design model (input_size, output_size, forward pass)\n",
    "\n",
    "2) Construct loss & optimizer\n",
    "\n",
    "3) Training loop\n",
    "\n",
    "    - forward pass: compute prediction\n",
    "    - backward pass: compute gradients\n",
    "    - update weights"
   ]
  },
  {
   "cell_type": "code",
   "execution_count": 27,
   "id": "5da56899",
   "metadata": {
    "ExecuteTime": {
     "end_time": "2023-05-07T16:50:59.836686Z",
     "start_time": "2023-05-07T16:50:59.781301Z"
    }
   },
   "outputs": [
    {
     "name": "stdout",
     "output_type": "stream",
     "text": [
      "Prediction before training: f(5) = -1.278\n",
      "Epoch: 1, w = 2.834, loss = 35.01121521\n",
      "Epoch: 51, w = 1.900, loss = 0.01543145\n",
      "Epoch: 101, w = 1.978, loss = 0.00073843\n",
      "Epoch: 151, w = 1.995, loss = 0.00003534\n",
      "Epoch: 201, w = 1.999, loss = 0.00000169\n",
      "Epoch: 251, w = 2.000, loss = 0.00000008\n",
      "Prediction before training: f(5) = 10.000\n"
     ]
    }
   ],
   "source": [
    "import torch.nn as nn\n",
    "\n",
    "X = torch.tensor([[1], [2], [3], [4]], dtype=torch.float32) # Training inputs\n",
    "y = torch.tensor([[2], [4], [6], [8]], dtype=torch.float32) # Outputs\n",
    "\n",
    "n_samples, n_features = X.shape # Changed here\n",
    "\n",
    "X_test = torch.tensor([5], dtype=torch.float32) # Changed here\n",
    "class LinearRegression(nn.Module):\n",
    "    \n",
    "    def __init__(self, input_dim, output_dim):\n",
    "        super(LinearRegression, self).__init__()\n",
    "        # define layers\n",
    "        self.lin = nn.Linear(input_dim, output_dim)\n",
    "        \n",
    "    def forward(self, x):\n",
    "        return self.lin(x)\n",
    "\n",
    "# model definition\n",
    "input_size = n_features\n",
    "output_size = 1\n",
    "model = nn.Linear(input_size, output_size) # Changed here\n",
    "model = LinearRegression(input_size, output_size) # Changed here - Either above or this can be used\n",
    "\n",
    "print(f\"Prediction before training: f(5) = {model(X_test).item():.3f}\") # Changed here\n",
    "\n",
    "# Training\n",
    "learning_rate = 0.1 # Increase learning rate\n",
    "n_epochs = 300\n",
    "\n",
    "# loss = MSE\n",
    "loss = nn.MSELoss()\n",
    "optimizer = torch.optim.SGD(model.parameters(), lr=learning_rate) # Changed here\n",
    "\n",
    "for epoch in range(n_epochs):\n",
    "    # prediction = forward pass\n",
    "    y_hat = model(X) # Changed here\n",
    "    \n",
    "    # loss\n",
    "    l = loss(y, y_hat)\n",
    "    \n",
    "    # gradients\n",
    "    l.backward() # dl/dw\n",
    "    \n",
    "    # update weights\n",
    "    optimizer.step()\n",
    "    \n",
    "    # zero the gradients\n",
    "    optimizer.zero_grad() # inplace\n",
    "    \n",
    "    if epoch % 50 == 0:\n",
    "        [w, b] = model.parameters()\n",
    "        print(f\"Epoch: {epoch + 1}, w = {w[0][0].item():.3f}, loss = {l:.8f}\")\n",
    "        \n",
    "print(f\"Prediction before training: f(5) = {model(X_test).item():.3f}\") # Changed here"
   ]
  },
  {
   "cell_type": "markdown",
   "id": "096143ab",
   "metadata": {},
   "source": [
    "## Linear Regression"
   ]
  },
  {
   "cell_type": "code",
   "execution_count": 28,
   "id": "bb2d3a54",
   "metadata": {
    "ExecuteTime": {
     "end_time": "2023-05-07T16:51:00.357804Z",
     "start_time": "2023-05-07T16:50:59.838068Z"
    }
   },
   "outputs": [],
   "source": [
    "import torch\n",
    "import torch.nn as nn\n",
    "import numpy as np\n",
    "from sklearn import datasets\n",
    "import matplotlib.pyplot as plt"
   ]
  },
  {
   "cell_type": "code",
   "execution_count": 29,
   "id": "6b089a53",
   "metadata": {
    "ExecuteTime": {
     "end_time": "2023-05-07T16:51:00.534368Z",
     "start_time": "2023-05-07T16:51:00.359220Z"
    }
   },
   "outputs": [
    {
     "name": "stdout",
     "output_type": "stream",
     "text": [
      "torch.Size([100])\n",
      "torch.Size([100, 1])\n",
      "Epoch: 50, Loss: 678.5157\n",
      "Epoch: 100, Loss: 385.0354\n",
      "Epoch: 150, Loss: 326.9630\n",
      "Epoch: 200, Loss: 315.2371\n",
      "Epoch: 250, Loss: 312.8397\n",
      "Epoch: 300, Loss: 312.3459\n",
      "Epoch: 350, Loss: 312.2437\n",
      "Epoch: 400, Loss: 312.2226\n",
      "Epoch: 450, Loss: 312.2181\n",
      "Epoch: 500, Loss: 312.2173\n"
     ]
    },
    {
     "data": {
      "text/plain": [
       "[<matplotlib.lines.Line2D at 0x7fecaaf5cc70>]"
      ]
     },
     "execution_count": 29,
     "metadata": {},
     "output_type": "execute_result"
    },
    {
     "data": {
      "image/png": "[encoded data removed]",
      "text/plain": [
       "<Figure size 864x504 with 1 Axes>"
      ]
     },
     "metadata": {
      "needs_background": "light"
     },
     "output_type": "display_data"
    }
   ],
   "source": [
    "X, y = datasets.make_regression(n_samples=100,\n",
    "                                n_features=1,\n",
    "                                noise=20,\n",
    "                                random_state=42)\n",
    "\n",
    "X = torch.from_numpy(X.astype(np.float32))\n",
    "y = torch.from_numpy(y.astype(np.float32))\n",
    "print(y.shape)\n",
    "\n",
    "y = y.view(y.shape[0], 1)\n",
    "print(y.shape)\n",
    "\n",
    "n_samples, n_features = X.shape\n",
    "\n",
    "# Define model\n",
    "model = nn.Linear(in_features=n_features, out_features=1)\n",
    "\n",
    "# Define loss & optimizer\n",
    "criterion = nn.MSELoss()\n",
    "optimizer = torch.optim.SGD(model.parameters(), lr=0.01)\n",
    "\n",
    "# Training loop\n",
    "# - forward pass\n",
    "# - backward pass\n",
    "# - weights update\n",
    "n_epochs = 500\n",
    "for epoch in range(n_epochs):\n",
    "    y_hat = model(X)\n",
    "    loss = criterion(y_hat, y)\n",
    "    loss.backward()\n",
    "    optimizer.step()\n",
    "    optimizer.zero_grad()  # empty gradients\n",
    "    if (epoch + 1) % 50 == 0:\n",
    "        print(f\"Epoch: {epoch + 1}, Loss: {loss.item():.4f}\")\n",
    "\n",
    "# Plot\n",
    "predicted = model(X).detach().numpy() # Detaching it from computational graph\n",
    "plt.figure(figsize=(12, 7))\n",
    "plt.plot(X, y, 'ro')\n",
    "plt.plot(X, predicted, 'go')"
   ]
  },
  {
   "cell_type": "markdown",
   "id": "9d3e5462",
   "metadata": {},
   "source": [
    "## Logistic regression"
   ]
  },
  {
   "cell_type": "code",
   "execution_count": 30,
   "id": "cd37aa44",
   "metadata": {
    "ExecuteTime": {
     "end_time": "2023-05-07T16:51:00.547312Z",
     "start_time": "2023-05-07T16:51:00.535467Z"
    }
   },
   "outputs": [],
   "source": [
    "import torch\n",
    "import torch.nn as nn\n",
    "import numpy as np\n",
    "from sklearn import datasets\n",
    "from sklearn.preprocessing import StandardScaler\n",
    "from sklearn.model_selection import train_test_split\n",
    "import matplotlib.pyplot as plt"
   ]
  },
  {
   "cell_type": "code",
   "execution_count": 31,
   "id": "f7bc2f6e",
   "metadata": {
    "ExecuteTime": {
     "end_time": "2023-05-07T16:51:00.742138Z",
     "start_time": "2023-05-07T16:51:00.548427Z"
    }
   },
   "outputs": [
    {
     "name": "stdout",
     "output_type": "stream",
     "text": [
      "(569,)\n",
      "Epoch: 50, Loss = 0.3095\n",
      "Epoch: 100, Loss = 0.2425\n",
      "Epoch: 150, Loss = 0.2092\n",
      "Epoch: 200, Loss = 0.1886\n",
      "Epoch: 250, Loss = 0.1742\n",
      "Epoch: 300, Loss = 0.1635\n",
      "Epoch: 350, Loss = 0.1551\n",
      "Epoch: 400, Loss = 0.1483\n",
      "Epoch: 450, Loss = 0.1427\n",
      "Epoch: 500, Loss = 0.1379\n",
      "Epoch: 550, Loss = 0.1337\n",
      "Epoch: 600, Loss = 0.1301\n",
      "Epoch: 650, Loss = 0.1269\n",
      "Epoch: 700, Loss = 0.1241\n",
      "Epoch: 750, Loss = 0.1215\n",
      "Epoch: 800, Loss = 0.1191\n",
      "Epoch: 850, Loss = 0.1170\n",
      "Epoch: 900, Loss = 0.1150\n",
      "Epoch: 950, Loss = 0.1132\n",
      "Epoch: 1000, Loss = 0.1115\n",
      "Accuracy: 0.9883\n"
     ]
    }
   ],
   "source": [
    "bc = datasets.load_breast_cancer()\n",
    "X, y = bc.data, bc.target\n",
    "print(y.shape)\n",
    "\n",
    "n_samples, n_features = X.shape\n",
    "\n",
    "# Train test split\n",
    "X_train, X_test, y_train, y_test = train_test_split(X, y, test_size=0.3, random_state=42)\n",
    "\n",
    "# scale\n",
    "sc = StandardScaler()\n",
    "X_train = sc.fit_transform(X_train)\n",
    "X_test = sc.transform(X_test)\n",
    "\n",
    "X_train = torch.from_numpy(X_train.astype(np.float32))\n",
    "X_test = torch.from_numpy(X_test.astype(np.float32))\n",
    "y_train = torch.from_numpy(y_train.astype(np.float32))\n",
    "y_test = torch.from_numpy(y_test.astype(np.float32))\n",
    "\n",
    "# reshape\n",
    "y_train = y_train.view(y_train.shape[0], 1)\n",
    "y_test = y_test.view(y_test.shape[0], 1)\n",
    "\n",
    "# model\n",
    "# # f = Sigmod(wx + b)\n",
    "class LogisticRegression(nn.Module):\n",
    "    def __init__(self, input_size):\n",
    "        super(LogisticRegression, self).__init__()\n",
    "        self.linear = nn.Linear(input_size, 1)\n",
    "    \n",
    "    def forward(self, x):\n",
    "        y_pred = torch.sigmoid(self.linear(x))\n",
    "        return y_pred\n",
    "    \n",
    "model = LogisticRegression(n_features)\n",
    "\n",
    "# loss & optimizer\n",
    "criterion = nn.BCELoss()\n",
    "optimizer = torch.optim.SGD(model.parameters(), lr=0.01)\n",
    "\n",
    "# training loop\n",
    "n_epochs = 1000\n",
    "for epoch in range(n_epochs):\n",
    "    # forward pass\n",
    "    y_pred = model(X_train)\n",
    "    loss = criterion(y_pred, y_train)\n",
    "    \n",
    "    # backward pass\n",
    "    loss.backward()\n",
    "    \n",
    "    # weights update\n",
    "    optimizer.step()\n",
    "    \n",
    "    # clear gradients to zero\n",
    "    optimizer.zero_grad()\n",
    "    \n",
    "    if (epoch+1) % 50 == 0:\n",
    "        print(f\"Epoch: {epoch + 1}, Loss = {loss.item():.4f}\")\n",
    "        \n",
    "# evaluation\n",
    "with torch.no_grad(): # as evaluation should not be part of computational graph\n",
    "    y_pred = model(X_test)\n",
    "    y_pred = y_pred.round()\n",
    "    acc = (y_pred.eq(y_test).sum())/float(y_test.shape[0])\n",
    "    print(f\"Accuracy: {acc:.4f}\")"
   ]
  },
  {
   "cell_type": "markdown",
   "id": "c3ed0596",
   "metadata": {},
   "source": [
    "## Dataset & DataLoader\n",
    "- epoch: forward & backward pass of ALL TRAINING SAMPLES\n",
    "- batch_size: number of training samples in one forward & backward pass\n",
    "- n_iters: no. of passes, each pass using [batch_size] number of samples\n",
    "- Ex: 100 samples, batch_size = 20 --> 5 interations for 1 epoch"
   ]
  },
  {
   "cell_type": "code",
   "execution_count": 32,
   "id": "3400db53",
   "metadata": {
    "ExecuteTime": {
     "end_time": "2023-05-07T16:51:01.042626Z",
     "start_time": "2023-05-07T16:51:00.743394Z"
    }
   },
   "outputs": [],
   "source": [
    "import torch\n",
    "import torchvision\n",
    "from torch.utils.data import Dataset, DataLoader\n",
    "import numpy as np\n",
    "import pandas as pd\n",
    "import math"
   ]
  },
  {
   "cell_type": "code",
   "execution_count": 33,
   "id": "a1afbde8",
   "metadata": {
    "ExecuteTime": {
     "end_time": "2023-05-07T16:51:01.268675Z",
     "start_time": "2023-05-07T16:51:01.044085Z"
    },
    "scrolled": true
   },
   "outputs": [
    {
     "name": "stdout",
     "output_type": "stream",
     "text": [
      "(tensor([1.4230e+01, 1.7100e+00, 2.4300e+00, 1.5600e+01, 1.2700e+02, 2.8000e+00,\n",
      "        3.0600e+00, 2.8000e-01, 2.2900e+00, 5.6400e+00, 1.0400e+00, 3.9200e+00,\n",
      "        1.0650e+03]), tensor([1.]))\n",
      "178 45\n",
      "Epochs: 1/2, Iter: 1/45, Input: torch.Size([4, 13])\n",
      "Epochs: 1/2, Iter: 2/45, Input: torch.Size([4, 13])\n",
      "Epochs: 1/2, Iter: 3/45, Input: torch.Size([4, 13])\n",
      "Epochs: 1/2, Iter: 4/45, Input: torch.Size([4, 13])\n",
      "Epochs: 1/2, Iter: 5/45, Input: torch.Size([4, 13])\n",
      "Epochs: 1/2, Iter: 6/45, Input: torch.Size([4, 13])\n",
      "Epochs: 1/2, Iter: 7/45, Input: torch.Size([4, 13])\n",
      "Epochs: 1/2, Iter: 8/45, Input: torch.Size([4, 13])\n",
      "Epochs: 1/2, Iter: 9/45, Input: torch.Size([4, 13])\n",
      "Epochs: 1/2, Iter: 10/45, Input: torch.Size([4, 13])\n",
      "Epochs: 1/2, Iter: 11/45, Input: torch.Size([4, 13])\n",
      "Epochs: 1/2, Iter: 12/45, Input: torch.Size([4, 13])\n",
      "Epochs: 1/2, Iter: 13/45, Input: torch.Size([4, 13])\n",
      "Epochs: 1/2, Iter: 14/45, Input: torch.Size([4, 13])\n",
      "Epochs: 1/2, Iter: 15/45, Input: torch.Size([4, 13])\n",
      "Epochs: 1/2, Iter: 16/45, Input: torch.Size([4, 13])\n",
      "Epochs: 1/2, Iter: 17/45, Input: torch.Size([4, 13])\n",
      "Epochs: 1/2, Iter: 18/45, Input: torch.Size([4, 13])\n",
      "Epochs: 1/2, Iter: 19/45, Input: torch.Size([4, 13])\n",
      "Epochs: 1/2, Iter: 20/45, Input: torch.Size([4, 13])\n",
      "Epochs: 1/2, Iter: 21/45, Input: torch.Size([4, 13])\n",
      "Epochs: 1/2, Iter: 22/45, Input: torch.Size([4, 13])\n",
      "Epochs: 1/2, Iter: 23/45, Input: torch.Size([4, 13])\n",
      "Epochs: 1/2, Iter: 24/45, Input: torch.Size([4, 13])\n",
      "Epochs: 1/2, Iter: 25/45, Input: torch.Size([4, 13])\n",
      "Epochs: 1/2, Iter: 26/45, Input: torch.Size([4, 13])\n",
      "Epochs: 1/2, Iter: 27/45, Input: torch.Size([4, 13])\n",
      "Epochs: 1/2, Iter: 28/45, Input: torch.Size([4, 13])\n",
      "Epochs: 1/2, Iter: 29/45, Input: torch.Size([4, 13])\n",
      "Epochs: 1/2, Iter: 30/45, Input: torch.Size([4, 13])\n",
      "Epochs: 1/2, Iter: 31/45, Input: torch.Size([4, 13])\n",
      "Epochs: 1/2, Iter: 32/45, Input: torch.Size([4, 13])\n",
      "Epochs: 1/2, Iter: 33/45, Input: torch.Size([4, 13])\n",
      "Epochs: 1/2, Iter: 34/45, Input: torch.Size([4, 13])\n",
      "Epochs: 1/2, Iter: 35/45, Input: torch.Size([4, 13])\n",
      "Epochs: 1/2, Iter: 36/45, Input: torch.Size([4, 13])\n",
      "Epochs: 1/2, Iter: 37/45, Input: torch.Size([4, 13])\n",
      "Epochs: 1/2, Iter: 38/45, Input: torch.Size([4, 13])\n",
      "Epochs: 1/2, Iter: 39/45, Input: torch.Size([4, 13])\n",
      "Epochs: 1/2, Iter: 40/45, Input: torch.Size([4, 13])\n",
      "Epochs: 1/2, Iter: 41/45, Input: torch.Size([4, 13])\n",
      "Epochs: 1/2, Iter: 42/45, Input: torch.Size([4, 13])\n",
      "Epochs: 1/2, Iter: 43/45, Input: torch.Size([4, 13])\n",
      "Epochs: 1/2, Iter: 44/45, Input: torch.Size([4, 13])\n",
      "Epochs: 1/2, Iter: 45/45, Input: torch.Size([2, 13])\n",
      "Epochs: 2/2, Iter: 1/45, Input: torch.Size([4, 13])\n",
      "Epochs: 2/2, Iter: 2/45, Input: torch.Size([4, 13])\n",
      "Epochs: 2/2, Iter: 3/45, Input: torch.Size([4, 13])\n",
      "Epochs: 2/2, Iter: 4/45, Input: torch.Size([4, 13])\n",
      "Epochs: 2/2, Iter: 5/45, Input: torch.Size([4, 13])\n",
      "Epochs: 2/2, Iter: 6/45, Input: torch.Size([4, 13])\n",
      "Epochs: 2/2, Iter: 7/45, Input: torch.Size([4, 13])\n",
      "Epochs: 2/2, Iter: 8/45, Input: torch.Size([4, 13])\n",
      "Epochs: 2/2, Iter: 9/45, Input: torch.Size([4, 13])\n",
      "Epochs: 2/2, Iter: 10/45, Input: torch.Size([4, 13])\n",
      "Epochs: 2/2, Iter: 11/45, Input: torch.Size([4, 13])\n",
      "Epochs: 2/2, Iter: 12/45, Input: torch.Size([4, 13])\n",
      "Epochs: 2/2, Iter: 13/45, Input: torch.Size([4, 13])\n",
      "Epochs: 2/2, Iter: 14/45, Input: torch.Size([4, 13])\n",
      "Epochs: 2/2, Iter: 15/45, Input: torch.Size([4, 13])\n",
      "Epochs: 2/2, Iter: 16/45, Input: torch.Size([4, 13])\n",
      "Epochs: 2/2, Iter: 17/45, Input: torch.Size([4, 13])\n",
      "Epochs: 2/2, Iter: 18/45, Input: torch.Size([4, 13])\n",
      "Epochs: 2/2, Iter: 19/45, Input: torch.Size([4, 13])\n",
      "Epochs: 2/2, Iter: 20/45, Input: torch.Size([4, 13])\n",
      "Epochs: 2/2, Iter: 21/45, Input: torch.Size([4, 13])\n",
      "Epochs: 2/2, Iter: 22/45, Input: torch.Size([4, 13])\n",
      "Epochs: 2/2, Iter: 23/45, Input: torch.Size([4, 13])\n",
      "Epochs: 2/2, Iter: 24/45, Input: torch.Size([4, 13])\n",
      "Epochs: 2/2, Iter: 25/45, Input: torch.Size([4, 13])\n",
      "Epochs: 2/2, Iter: 26/45, Input: torch.Size([4, 13])\n",
      "Epochs: 2/2, Iter: 27/45, Input: torch.Size([4, 13])\n",
      "Epochs: 2/2, Iter: 28/45, Input: torch.Size([4, 13])\n",
      "Epochs: 2/2, Iter: 29/45, Input: torch.Size([4, 13])\n",
      "Epochs: 2/2, Iter: 30/45, Input: torch.Size([4, 13])\n",
      "Epochs: 2/2, Iter: 31/45, Input: torch.Size([4, 13])\n",
      "Epochs: 2/2, Iter: 32/45, Input: torch.Size([4, 13])\n",
      "Epochs: 2/2, Iter: 33/45, Input: torch.Size([4, 13])\n",
      "Epochs: 2/2, Iter: 34/45, Input: torch.Size([4, 13])\n",
      "Epochs: 2/2, Iter: 35/45, Input: torch.Size([4, 13])\n",
      "Epochs: 2/2, Iter: 36/45, Input: torch.Size([4, 13])\n",
      "Epochs: 2/2, Iter: 37/45, Input: torch.Size([4, 13])\n",
      "Epochs: 2/2, Iter: 38/45, Input: torch.Size([4, 13])\n",
      "Epochs: 2/2, Iter: 39/45, Input: torch.Size([4, 13])\n",
      "Epochs: 2/2, Iter: 40/45, Input: torch.Size([4, 13])\n",
      "Epochs: 2/2, Iter: 41/45, Input: torch.Size([4, 13])\n",
      "Epochs: 2/2, Iter: 42/45, Input: torch.Size([4, 13])\n",
      "Epochs: 2/2, Iter: 43/45, Input: torch.Size([4, 13])\n",
      "Epochs: 2/2, Iter: 44/45, Input: torch.Size([4, 13])\n",
      "Epochs: 2/2, Iter: 45/45, Input: torch.Size([2, 13])\n"
     ]
    }
   ],
   "source": [
    "class WineDataset(Dataset):\n",
    "    \n",
    "    def __init__(self):\n",
    "        # data loading\n",
    "        xy = pd.read_csv(\"../data/wine.csv\")\n",
    "        self.x = torch.from_numpy(xy.drop(\"Wine\", axis=1).values.astype(np.float32))\n",
    "        self.y = torch.from_numpy(xy[[\"Wine\"]].values.astype(np.float32))\n",
    "        self.n_samples = xy.shape[0]\n",
    "    \n",
    "    def __getitem__(self, index):\n",
    "        # dataset[0]\n",
    "        return self.x[index], self.y[index]\n",
    "        \n",
    "    def __len__(self):\n",
    "        # len(dataset)\n",
    "        return self.n_samples\n",
    "    \n",
    "dataset = WineDataset()\n",
    "print(dataset[0])\n",
    "\n",
    "batch_size = 4\n",
    "dataloader = DataLoader(dataset=dataset, batch_size=batch_size, shuffle=True, num_workers=2)\n",
    "\n",
    "# training loop\n",
    "n_epochs = 2\n",
    "total_samples = len(dataset)\n",
    "n_iters = math.ceil(total_samples/batch_size)\n",
    "print(total_samples, n_iters)\n",
    "for epoch in range(n_epochs):\n",
    "    for i, (inputs, labels) in enumerate(dataloader):\n",
    "        # forward\n",
    "        # backward\n",
    "        # update\n",
    "        print(f\"Epochs: {epoch+1}/{n_epochs}, Iter: {i+1}/{n_iters}, Input: {inputs.shape}\")"
   ]
  },
  {
   "cell_type": "markdown",
   "id": "69133ef4",
   "metadata": {},
   "source": [
    "## Dataset Transforms"
   ]
  },
  {
   "cell_type": "code",
   "execution_count": 34,
   "id": "0658d31f",
   "metadata": {
    "ExecuteTime": {
     "end_time": "2023-05-07T16:51:01.275401Z",
     "start_time": "2023-05-07T16:51:01.271117Z"
    }
   },
   "outputs": [],
   "source": [
    "import torch\n",
    "import torchvision"
   ]
  },
  {
   "cell_type": "markdown",
   "id": "9a41eed9",
   "metadata": {},
   "source": [
    "### Inbuilt-transforms\n",
    "- https://pytorch.org/vision/stable/transforms.html"
   ]
  },
  {
   "cell_type": "code",
   "execution_count": 35,
   "id": "3ea5645b",
   "metadata": {
    "ExecuteTime": {
     "end_time": "2023-05-07T16:51:01.327577Z",
     "start_time": "2023-05-07T16:51:01.276732Z"
    }
   },
   "outputs": [],
   "source": [
    "dataset = torchvision.datasets.MNIST(root=\"../data\", transform=torchvision.transforms.ToTensor(), download=False)"
   ]
  },
  {
   "cell_type": "markdown",
   "id": "a84e800f",
   "metadata": {},
   "source": [
    "### Custom transforms"
   ]
  },
  {
   "cell_type": "code",
   "execution_count": 36,
   "id": "bc874004",
   "metadata": {
    "ExecuteTime": {
     "end_time": "2023-05-07T16:51:01.359263Z",
     "start_time": "2023-05-07T16:51:01.329221Z"
    }
   },
   "outputs": [
    {
     "name": "stdout",
     "output_type": "stream",
     "text": [
      "(array([1.423e+01, 1.710e+00, 2.430e+00, 1.560e+01, 1.270e+02, 2.800e+00,\n",
      "       3.060e+00, 2.800e-01, 2.290e+00, 5.640e+00, 1.040e+00, 3.920e+00,\n",
      "       1.065e+03], dtype=float32), array([1.], dtype=float32))\n",
      "(tensor([1.4230e+01, 1.7100e+00, 2.4300e+00, 1.5600e+01, 1.2700e+02, 2.8000e+00,\n",
      "        3.0600e+00, 2.8000e-01, 2.2900e+00, 5.6400e+00, 1.0400e+00, 3.9200e+00,\n",
      "        1.0650e+03]), tensor([1.]))\n",
      "(array([2.846e+01, 3.420e+00, 4.860e+00, 3.120e+01, 2.540e+02, 5.600e+00,\n",
      "       6.120e+00, 5.600e-01, 4.580e+00, 1.128e+01, 2.080e+00, 7.840e+00,\n",
      "       2.130e+03], dtype=float32), array([1.], dtype=float32))\n"
     ]
    }
   ],
   "source": [
    "class WineDataset(Dataset):\n",
    "    \n",
    "    def __init__(self, transform=None):\n",
    "        # data loading\n",
    "        xy = pd.read_csv(\"../data/wine.csv\")\n",
    "        self.x = xy.drop(\"Wine\", axis=1).values.astype(np.float32)\n",
    "        self.y = xy[[\"Wine\"]].values.astype(np.float32)\n",
    "        self.n_samples = xy.shape[0]\n",
    "        self.transform = transform\n",
    "    \n",
    "    def __getitem__(self, index):\n",
    "        sample = self.x[index], self.y[index]\n",
    "        if self.transform:\n",
    "            sample = self.transform(sample)\n",
    "        return sample\n",
    "        \n",
    "    def __len__(self):\n",
    "        # len(dataset)\n",
    "        return self.n_samples\n",
    "    \n",
    "class ToTensor():\n",
    "    \n",
    "    def __call__(self, sample):\n",
    "        inputs, labels = sample\n",
    "        return torch.from_numpy(inputs), torch.from_numpy(labels)\n",
    "    \n",
    "class MulTransform():\n",
    "    def __init__(self, factor):\n",
    "        self.factor = factor\n",
    "        \n",
    "    def __call__(self, sample):\n",
    "        inputs, labels = sample\n",
    "        return inputs * self.factor, labels\n",
    "    \n",
    "    \n",
    "dataset = WineDataset(transform=None)\n",
    "print(dataset[0])\n",
    "dataset = WineDataset(transform=ToTensor())\n",
    "print(dataset[0])\n",
    "dataset = WineDataset(transform=MulTransform(2))\n",
    "print(dataset[0])"
   ]
  },
  {
   "cell_type": "markdown",
   "id": "a9952f13",
   "metadata": {},
   "source": [
    "### Composed transforms\n",
    "- multiple transforms at a time"
   ]
  },
  {
   "cell_type": "code",
   "execution_count": 37,
   "id": "a6cd554a",
   "metadata": {
    "ExecuteTime": {
     "end_time": "2023-05-07T16:51:01.369869Z",
     "start_time": "2023-05-07T16:51:01.361152Z"
    }
   },
   "outputs": [
    {
     "name": "stdout",
     "output_type": "stream",
     "text": [
      "(tensor([2.8460e+01, 3.4200e+00, 4.8600e+00, 3.1200e+01, 2.5400e+02, 5.6000e+00,\n",
      "        6.1200e+00, 5.6000e-01, 4.5800e+00, 1.1280e+01, 2.0800e+00, 7.8400e+00,\n",
      "        2.1300e+03]), tensor([1.]))\n"
     ]
    }
   ],
   "source": [
    "composed = torchvision.transforms.Compose([ToTensor(), MulTransform(2)])\n",
    "dataset = WineDataset(transform=composed)\n",
    "print(dataset[0])"
   ]
  },
  {
   "cell_type": "markdown",
   "id": "e1316fce",
   "metadata": {},
   "source": [
    "## Softmax & CrossEntropy\n",
    "### Softmax"
   ]
  },
  {
   "cell_type": "code",
   "execution_count": 38,
   "id": "10adc1bb",
   "metadata": {
    "ExecuteTime": {
     "end_time": "2023-05-07T16:51:01.380571Z",
     "start_time": "2023-05-07T16:51:01.372102Z"
    }
   },
   "outputs": [
    {
     "name": "stdout",
     "output_type": "stream",
     "text": [
      "[0.6590011  0.24243295 0.09856589]\n"
     ]
    },
    {
     "data": {
      "text/plain": [
       "tensor([0.6590, 0.2424, 0.0986])"
      ]
     },
     "execution_count": 38,
     "metadata": {},
     "output_type": "execute_result"
    }
   ],
   "source": [
    "def softmax_np(x):\n",
    "    return np.exp(x) / np.sum(np.exp(x), axis=0)\n",
    "\n",
    "x = np.array([2, 1, 0.1], dtype=np.float32)\n",
    "print(softmax_np(x))\n",
    "\n",
    "x = torch.tensor([2, 1, 0.1], dtype = torch.float32)\n",
    "torch.softmax(x, axis=0)"
   ]
  },
  {
   "cell_type": "markdown",
   "id": "033fba5b",
   "metadata": {
    "ExecuteTime": {
     "end_time": "2023-05-07T13:07:07.255761Z",
     "start_time": "2023-05-07T13:07:07.251755Z"
    }
   },
   "source": [
    "### Cross-entropy\n",
    "- **Note:** torch CrossEntropyLoss applies Softmax inside, hence provide raw logits scores (no softmax layer)\n",
    "- **Note:** torch CrossEntropyLoss applies OHE inside, hence provide original class not onehotencoded\n",
    "- **Note:** torch BCELoss needs Sigmoid at the end !!"
   ]
  },
  {
   "cell_type": "code",
   "execution_count": 39,
   "id": "7c666ee8",
   "metadata": {
    "ExecuteTime": {
     "end_time": "2023-05-07T16:51:01.387364Z",
     "start_time": "2023-05-07T16:51:01.381626Z"
    }
   },
   "outputs": [
    {
     "name": "stdout",
     "output_type": "stream",
     "text": [
      "0.35667494393873245\n",
      "2.3025850929940455\n",
      "0.4170299470424652\n",
      "1.840616226196289\n"
     ]
    }
   ],
   "source": [
    "def cross_entropy_np(actual, predicted):\n",
    "    loss = -np.sum(actual * np.log(predicted))\n",
    "    return loss # /float(predicted.shape[0])\n",
    "\n",
    "y = np.array([1, 0, 0])\n",
    "y_pred_good = np.array([0.7, 0.2, 0.1])\n",
    "y_pred_bad = np.array([[0.1, 0.3, 0.6]])\n",
    "print(cross_entropy_np(y, y_pred_good))\n",
    "print(cross_entropy_np(y, y_pred_bad))\n",
    "\n",
    "## Using torch\n",
    "loss = nn.CrossEntropyLoss()\n",
    "y = torch.tensor([0])\n",
    "# nsamples x nclasses\n",
    "y_pred_good = torch.tensor([[2.0, 1.0, 0.1]])\n",
    "y_pred_bad = torch.tensor([[0.5, 2.0, 0.3]])\n",
    "print(loss(y_pred_good, y).item())\n",
    "print(loss(y_pred_bad, y).item())"
   ]
  },
  {
   "cell_type": "markdown",
   "id": "8fbb5d53",
   "metadata": {},
   "source": [
    "## Activation functions\n",
    "- Step function: 1 if x >= threshold else 0\n",
    "- Sigmoid: 1/(1 + exp(-x)), ranges (0, 1) - used in binary classification\n",
    "- TanH: Scaled & Shifted Sigmoid: (2/(1 + exp(-2x))) - 1, ranges (-1, 1)\n",
    "- ReLU: max(0, x)\n",
    "- Leaky ReLU: solves vanishing gradient [x if x >=0 else a * x]\n",
    "- Softmax"
   ]
  },
  {
   "cell_type": "code",
   "execution_count": 40,
   "id": "d92f6a0d",
   "metadata": {
    "ExecuteTime": {
     "end_time": "2023-05-07T16:51:01.390263Z",
     "start_time": "2023-05-07T16:51:01.388381Z"
    }
   },
   "outputs": [],
   "source": [
    "# print(torch.relu(torch.tensor([-1, 3])))\n",
    "# print(torch.softmax(torch.tensor([-1, 3])))\n",
    "# print(torch.sigmoid(torch.tensor([-1, 3])))\n",
    "# print(torch.tanh(torch.tensor([-1, 3])))"
   ]
  },
  {
   "cell_type": "code",
   "execution_count": 41,
   "id": "600141df",
   "metadata": {
    "ExecuteTime": {
     "end_time": "2023-05-07T16:51:01.399128Z",
     "start_time": "2023-05-07T16:51:01.391520Z"
    }
   },
   "outputs": [
    {
     "data": {
      "text/plain": [
       "tensor([-0.0100,  3.0000])"
      ]
     },
     "execution_count": 41,
     "metadata": {},
     "output_type": "execute_result"
    }
   ],
   "source": [
    "import torch.nn.functional as F\n",
    "F.leaky_relu(torch.tensor([-1, 3], dtype=torch.float32), negative_slope=0.01)"
   ]
  },
  {
   "cell_type": "markdown",
   "id": "5f05d944",
   "metadata": {},
   "source": [
    "## FFN"
   ]
  },
  {
   "cell_type": "code",
   "execution_count": 42,
   "id": "8d1a744e",
   "metadata": {
    "ExecuteTime": {
     "end_time": "2023-05-07T16:51:13.588706Z",
     "start_time": "2023-05-07T16:51:01.400805Z"
    }
   },
   "outputs": [
    {
     "name": "stdout",
     "output_type": "stream",
     "text": [
      "Device used: cpu\n",
      "torch.Size([100, 1, 28, 28]) torch.Size([100])\n",
      "Epoch: 1/2, Step: 100/600, Loss: 0.1509\n",
      "Epoch: 1/2, Step: 200/600, Loss: 0.1543\n",
      "Epoch: 1/2, Step: 300/600, Loss: 0.2302\n",
      "Epoch: 1/2, Step: 400/600, Loss: 0.1229\n",
      "Epoch: 1/2, Step: 500/600, Loss: 0.1473\n",
      "Epoch: 1/2, Step: 600/600, Loss: 0.1789\n",
      "Epoch: 2/2, Step: 100/600, Loss: 0.0826\n",
      "Epoch: 2/2, Step: 200/600, Loss: 0.1857\n",
      "Epoch: 2/2, Step: 300/600, Loss: 0.1625\n",
      "Epoch: 2/2, Step: 400/600, Loss: 0.0587\n",
      "Epoch: 2/2, Step: 500/600, Loss: 0.0477\n",
      "Epoch: 2/2, Step: 600/600, Loss: 0.1940\n",
      "Accuracy: 0.9400000000000001\n"
     ]
    },
    {
     "data": {
      "image/png": "[encoded data removed]",
      "text/plain": [
       "<Figure size 432x288 with 6 Axes>"
      ]
     },
     "metadata": {
      "needs_background": "light"
     },
     "output_type": "display_data"
    }
   ],
   "source": [
    "import torch\n",
    "import torch.nn as nn\n",
    "import torchvision\n",
    "import torchvision.transforms as transforms\n",
    "import matplotlib.pyplot as plt\n",
    "\n",
    "# device config\n",
    "device = torch.device(\"cuda\" if torch.cuda.is_available() else \"cpu\")\n",
    "print(f\"Device used: {device}\")\n",
    "\n",
    "# hyperparameters\n",
    "input_size = 784 # 28 x 28\n",
    "hidden_size = 100\n",
    "num_classes = 10\n",
    "n_epochs = 2\n",
    "batch_size = 100\n",
    "learning_rate = 0.01\n",
    "\n",
    "# load data\n",
    "train_dataset = torchvision.datasets.MNIST(root=\"../data\", train=True, transform=transforms.ToTensor(), download=False)\n",
    "test_dataset = torchvision.datasets.MNIST(root=\"../data\", train=False, transform=transforms.ToTensor(), download=False)\n",
    "\n",
    "# data loader\n",
    "train_loader = torch.utils.data.DataLoader(dataset=train_dataset, batch_size=batch_size, shuffle=True)\n",
    "test_loader = torch.utils.data.DataLoader(dataset=test_dataset, batch_size=batch_size, shuffle=False)\n",
    "\n",
    "# plot samples\n",
    "examples = iter(train_loader)\n",
    "samples, labels = next(examples)\n",
    "print(samples.shape, labels.shape)\n",
    "\n",
    "for i in range(6):\n",
    "    plt.subplot(2, 3, i+1)\n",
    "    plt.imshow(samples[i][0], cmap=\"gray\") # [0] for first channel\n",
    "    \n",
    "# define model\n",
    "class NeuralNet(nn.Module):\n",
    "    def __init__(self, input_size, hidden_size, num_classes=10):\n",
    "        super(NeuralNet, self).__init__()\n",
    "        self.layer1 = nn.Linear(input_size, hidden_size)\n",
    "        self.relu = nn.ReLU()\n",
    "        self.layer2 = nn.Linear(hidden_size, num_classes)\n",
    "        \n",
    "    def forward(self, x):\n",
    "        out = self.layer1(x)\n",
    "        out = self.relu(out)\n",
    "        out = self.layer2(out)\n",
    "        return out\n",
    "model = NeuralNet(input_size, hidden_size, num_classes)\n",
    "    \n",
    "    \n",
    "# define loss & optimizer\n",
    "criterion = nn.CrossEntropyLoss()\n",
    "optimizer = torch.optim.AdamW(model.parameters(), lr=learning_rate)\n",
    "\n",
    "# training loop\n",
    "n_total_steps = len(train_loader)\n",
    "for epoch in range(n_epochs):\n",
    "    for i, (images, labels) in enumerate(train_loader):\n",
    "        # reshape images from 100 x 1 x 28 x 28 --> 100 x 784\n",
    "        images = images.reshape(-1, 28*28).to(device)\n",
    "        labels = labels.to(device)\n",
    "        \n",
    "        # forward\n",
    "        outputs = model(images)\n",
    "        loss = criterion(outputs, labels)\n",
    "\n",
    "        # backward\n",
    "        optimizer.zero_grad()\n",
    "        loss.backward()\n",
    "        optimizer.step()\n",
    "        \n",
    "        if (i + 1) % 100 == 0:\n",
    "            print(f\"Epoch: {epoch + 1}/{n_epochs}, Step: {i+1}/{n_total_steps}, Loss: {loss.item():.4f}\")\n",
    "            \n",
    "# evaluation\n",
    "with torch.no_grad():\n",
    "    n_correct = 0\n",
    "    n_samples = 0\n",
    "    for images, labels in test_loader:\n",
    "        # reshape images from 100 x 1 x 28 x 28 --> 100 x 784\n",
    "        images = images.reshape(-1, 28*28).to(device)\n",
    "        labels = labels.to(device)\n",
    "        \n",
    "        outputs = model(images)\n",
    "        \n",
    "        # returns value, index and we are interested in \"index\"\n",
    "        _, predictions = torch.max(outputs, axis=1)\n",
    "        n_samples = n_samples + labels.shape[0]\n",
    "        \n",
    "        n_correct = (predictions == labels).sum().item()\n",
    "        \n",
    "    acc = 100.0 * (n_correct/n_samples)\n",
    "    print(f\"Accuracy: {acc}\")"
   ]
  },
  {
   "cell_type": "markdown",
   "id": "5d0261c0",
   "metadata": {},
   "source": [
    "## CNN"
   ]
  },
  {
   "cell_type": "code",
   "execution_count": 43,
   "id": "226034c9",
   "metadata": {
    "ExecuteTime": {
     "end_time": "2023-05-07T16:52:32.546017Z",
     "start_time": "2023-05-07T16:51:13.589764Z"
    },
    "scrolled": true
   },
   "outputs": [
    {
     "name": "stdout",
     "output_type": "stream",
     "text": [
      "Device used: cpu\n",
      "torch.Size([4, 3, 32, 32]) torch.Size([4])\n"
     ]
    },
    {
     "data": {
      "image/png": "[encoded data removed]",
      "text/plain": [
       "<Figure size 432x288 with 1 Axes>"
      ]
     },
     "metadata": {
      "needs_background": "light"
     },
     "output_type": "display_data"
    },
    {
     "name": "stdout",
     "output_type": "stream",
     "text": [
      "Epoch: 1/4, Step: 100/12500, Loss: 2.3229\n",
      "Epoch: 1/4, Step: 200/12500, Loss: 2.2994\n",
      "Epoch: 1/4, Step: 300/12500, Loss: 2.3219\n",
      "Epoch: 1/4, Step: 400/12500, Loss: 2.2784\n",
      "Epoch: 1/4, Step: 500/12500, Loss: 2.3050\n",
      "Epoch: 1/4, Step: 600/12500, Loss: 2.2925\n",
      "Epoch: 1/4, Step: 700/12500, Loss: 2.2746\n",
      "Epoch: 1/4, Step: 800/12500, Loss: 2.2970\n",
      "Epoch: 1/4, Step: 900/12500, Loss: 2.2942\n",
      "Epoch: 1/4, Step: 1000/12500, Loss: 2.2699\n",
      "Epoch: 1/4, Step: 1100/12500, Loss: 2.2947\n",
      "Epoch: 1/4, Step: 1200/12500, Loss: 2.2900\n",
      "Epoch: 1/4, Step: 1300/12500, Loss: 2.2756\n",
      "Epoch: 1/4, Step: 1400/12500, Loss: 2.2929\n",
      "Epoch: 1/4, Step: 1500/12500, Loss: 2.3100\n",
      "Epoch: 1/4, Step: 1600/12500, Loss: 2.2920\n",
      "Epoch: 1/4, Step: 1700/12500, Loss: 2.2869\n",
      "Epoch: 1/4, Step: 1800/12500, Loss: 2.3276\n",
      "Epoch: 1/4, Step: 1900/12500, Loss: 2.2851\n",
      "Epoch: 1/4, Step: 2000/12500, Loss: 2.2916\n",
      "Epoch: 1/4, Step: 2100/12500, Loss: 2.3230\n",
      "Epoch: 1/4, Step: 2200/12500, Loss: 2.2976\n",
      "Epoch: 1/4, Step: 2300/12500, Loss: 2.2934\n",
      "Epoch: 1/4, Step: 2400/12500, Loss: 2.2798\n",
      "Epoch: 1/4, Step: 2500/12500, Loss: 2.2984\n",
      "Epoch: 1/4, Step: 2600/12500, Loss: 2.2868\n",
      "Epoch: 1/4, Step: 2700/12500, Loss: 2.3217\n",
      "Epoch: 1/4, Step: 2800/12500, Loss: 2.3171\n",
      "Epoch: 1/4, Step: 2900/12500, Loss: 2.2810\n",
      "Epoch: 1/4, Step: 3000/12500, Loss: 2.2619\n",
      "Epoch: 1/4, Step: 3100/12500, Loss: 2.2981\n",
      "Epoch: 1/4, Step: 3200/12500, Loss: 2.2900\n",
      "Epoch: 1/4, Step: 3300/12500, Loss: 2.3267\n",
      "Epoch: 1/4, Step: 3400/12500, Loss: 2.2835\n",
      "Epoch: 1/4, Step: 3500/12500, Loss: 2.2720\n",
      "Epoch: 1/4, Step: 3600/12500, Loss: 2.2616\n",
      "Epoch: 1/4, Step: 3700/12500, Loss: 2.2653\n",
      "Epoch: 1/4, Step: 3800/12500, Loss: 2.2910\n",
      "Epoch: 1/4, Step: 3900/12500, Loss: 2.3326\n",
      "Epoch: 1/4, Step: 4000/12500, Loss: 2.2870\n",
      "Epoch: 1/4, Step: 4100/12500, Loss: 2.2811\n",
      "Epoch: 1/4, Step: 4200/12500, Loss: 2.3063\n",
      "Epoch: 1/4, Step: 4300/12500, Loss: 2.2333\n",
      "Epoch: 1/4, Step: 4400/12500, Loss: 2.2867\n",
      "Epoch: 1/4, Step: 4500/12500, Loss: 2.2829\n",
      "Epoch: 1/4, Step: 4600/12500, Loss: 2.3135\n",
      "Epoch: 1/4, Step: 4700/12500, Loss: 2.2756\n",
      "Epoch: 1/4, Step: 4800/12500, Loss: 2.2889\n",
      "Epoch: 1/4, Step: 4900/12500, Loss: 2.1970\n",
      "Epoch: 1/4, Step: 5000/12500, Loss: 2.2805\n",
      "Epoch: 1/4, Step: 5100/12500, Loss: 2.2796\n",
      "Epoch: 1/4, Step: 5200/12500, Loss: 2.3007\n",
      "Epoch: 1/4, Step: 5300/12500, Loss: 2.2576\n",
      "Epoch: 1/4, Step: 5400/12500, Loss: 2.3102\n",
      "Epoch: 1/4, Step: 5500/12500, Loss: 2.2450\n",
      "Epoch: 1/4, Step: 5600/12500, Loss: 2.2271\n",
      "Epoch: 1/4, Step: 5700/12500, Loss: 2.3762\n",
      "Epoch: 1/4, Step: 5800/12500, Loss: 2.2021\n",
      "Epoch: 1/4, Step: 5900/12500, Loss: 2.2331\n",
      "Epoch: 1/4, Step: 6000/12500, Loss: 2.1498\n",
      "Epoch: 1/4, Step: 6100/12500, Loss: 2.2555\n",
      "Epoch: 1/4, Step: 6200/12500, Loss: 2.2315\n",
      "Epoch: 1/4, Step: 6300/12500, Loss: 2.1990\n",
      "Epoch: 1/4, Step: 6400/12500, Loss: 2.3313\n",
      "Epoch: 1/4, Step: 6500/12500, Loss: 2.2343\n",
      "Epoch: 1/4, Step: 6600/12500, Loss: 2.2600\n",
      "Epoch: 1/4, Step: 6700/12500, Loss: 2.1464\n",
      "Epoch: 1/4, Step: 6800/12500, Loss: 2.1665\n",
      "Epoch: 1/4, Step: 6900/12500, Loss: 2.2862\n",
      "Epoch: 1/4, Step: 7000/12500, Loss: 2.2028\n",
      "Epoch: 1/4, Step: 7100/12500, Loss: 2.2178\n",
      "Epoch: 1/4, Step: 7200/12500, Loss: 2.2607\n",
      "Epoch: 1/4, Step: 7300/12500, Loss: 2.2893\n",
      "Epoch: 1/4, Step: 7400/12500, Loss: 2.3212\n",
      "Epoch: 1/4, Step: 7500/12500, Loss: 2.2857\n",
      "Epoch: 1/4, Step: 7600/12500, Loss: 2.2774\n",
      "Epoch: 1/4, Step: 7700/12500, Loss: 2.2356\n",
      "Epoch: 1/4, Step: 7800/12500, Loss: 2.1039\n",
      "Epoch: 1/4, Step: 7900/12500, Loss: 2.2469\n",
      "Epoch: 1/4, Step: 8000/12500, Loss: 2.2064\n",
      "Epoch: 1/4, Step: 8100/12500, Loss: 2.4451\n",
      "Epoch: 1/4, Step: 8200/12500, Loss: 2.0474\n",
      "Epoch: 1/4, Step: 8300/12500, Loss: 2.1225\n",
      "Epoch: 1/4, Step: 8400/12500, Loss: 2.2000\n",
      "Epoch: 1/4, Step: 8500/12500, Loss: 2.0182\n",
      "Epoch: 1/4, Step: 8600/12500, Loss: 2.2491\n",
      "Epoch: 1/4, Step: 8700/12500, Loss: 2.1798\n",
      "Epoch: 1/4, Step: 8800/12500, Loss: 2.5605\n",
      "Epoch: 1/4, Step: 8900/12500, Loss: 1.7913\n",
      "Epoch: 1/4, Step: 9000/12500, Loss: 2.0022\n",
      "Epoch: 1/4, Step: 9100/12500, Loss: 1.8546\n",
      "Epoch: 1/4, Step: 9200/12500, Loss: 2.2625\n",
      "Epoch: 1/4, Step: 9300/12500, Loss: 2.6072\n",
      "Epoch: 1/4, Step: 9400/12500, Loss: 2.0404\n",
      "Epoch: 1/4, Step: 9500/12500, Loss: 2.3156\n",
      "Epoch: 1/4, Step: 9600/12500, Loss: 2.4419\n",
      "Epoch: 1/4, Step: 9700/12500, Loss: 1.9539\n",
      "Epoch: 1/4, Step: 9800/12500, Loss: 1.9449\n",
      "Epoch: 1/4, Step: 9900/12500, Loss: 2.0034\n",
      "Epoch: 1/4, Step: 10000/12500, Loss: 2.4375\n",
      "Epoch: 1/4, Step: 10100/12500, Loss: 2.3029\n",
      "Epoch: 1/4, Step: 10200/12500, Loss: 1.9851\n",
      "Epoch: 1/4, Step: 10300/12500, Loss: 2.1325\n",
      "Epoch: 1/4, Step: 10400/12500, Loss: 1.7990\n",
      "Epoch: 1/4, Step: 10500/12500, Loss: 2.0850\n",
      "Epoch: 1/4, Step: 10600/12500, Loss: 2.4719\n",
      "Epoch: 1/4, Step: 10700/12500, Loss: 2.2064\n",
      "Epoch: 1/4, Step: 10800/12500, Loss: 2.1732\n",
      "Epoch: 1/4, Step: 10900/12500, Loss: 2.1923\n",
      "Epoch: 1/4, Step: 11000/12500, Loss: 1.6601\n",
      "Epoch: 1/4, Step: 11100/12500, Loss: 2.1803\n",
      "Epoch: 1/4, Step: 11200/12500, Loss: 1.8381\n",
      "Epoch: 1/4, Step: 11300/12500, Loss: 2.1898\n",
      "Epoch: 1/4, Step: 11400/12500, Loss: 2.0095\n",
      "Epoch: 1/4, Step: 11500/12500, Loss: 2.0737\n",
      "Epoch: 1/4, Step: 11600/12500, Loss: 2.0338\n",
      "Epoch: 1/4, Step: 11700/12500, Loss: 1.6589\n",
      "Epoch: 1/4, Step: 11800/12500, Loss: 1.6202\n",
      "Epoch: 1/4, Step: 11900/12500, Loss: 2.0622\n",
      "Epoch: 1/4, Step: 12000/12500, Loss: 2.6435\n",
      "Epoch: 1/4, Step: 12100/12500, Loss: 1.8923\n",
      "Epoch: 1/4, Step: 12200/12500, Loss: 1.8328\n",
      "Epoch: 1/4, Step: 12300/12500, Loss: 1.7767\n",
      "Epoch: 1/4, Step: 12400/12500, Loss: 2.0918\n",
      "Epoch: 1/4, Step: 12500/12500, Loss: 2.2731\n",
      "Epoch: 2/4, Step: 100/12500, Loss: 1.6119\n",
      "Epoch: 2/4, Step: 200/12500, Loss: 2.1270\n",
      "Epoch: 2/4, Step: 300/12500, Loss: 2.1651\n",
      "Epoch: 2/4, Step: 400/12500, Loss: 2.3796\n",
      "Epoch: 2/4, Step: 500/12500, Loss: 2.0539\n",
      "Epoch: 2/4, Step: 600/12500, Loss: 1.6200\n",
      "Epoch: 2/4, Step: 700/12500, Loss: 1.8568\n",
      "Epoch: 2/4, Step: 800/12500, Loss: 2.1097\n",
      "Epoch: 2/4, Step: 900/12500, Loss: 1.9643\n",
      "Epoch: 2/4, Step: 1000/12500, Loss: 2.0188\n",
      "Epoch: 2/4, Step: 1100/12500, Loss: 2.0719\n",
      "Epoch: 2/4, Step: 1200/12500, Loss: 2.1056\n",
      "Epoch: 2/4, Step: 1300/12500, Loss: 1.8016\n",
      "Epoch: 2/4, Step: 1400/12500, Loss: 1.8220\n",
      "Epoch: 2/4, Step: 1500/12500, Loss: 2.3846\n",
      "Epoch: 2/4, Step: 1600/12500, Loss: 1.8982\n",
      "Epoch: 2/4, Step: 1700/12500, Loss: 1.8019\n",
      "Epoch: 2/4, Step: 1800/12500, Loss: 1.7708\n",
      "Epoch: 2/4, Step: 1900/12500, Loss: 2.1263\n",
      "Epoch: 2/4, Step: 2000/12500, Loss: 2.1731\n",
      "Epoch: 2/4, Step: 2100/12500, Loss: 1.6257\n",
      "Epoch: 2/4, Step: 2200/12500, Loss: 1.9299\n",
      "Epoch: 2/4, Step: 2300/12500, Loss: 1.8842\n",
      "Epoch: 2/4, Step: 2400/12500, Loss: 2.0081\n",
      "Epoch: 2/4, Step: 2500/12500, Loss: 2.3309\n",
      "Epoch: 2/4, Step: 2600/12500, Loss: 2.5219\n",
      "Epoch: 2/4, Step: 2700/12500, Loss: 1.9823\n",
      "Epoch: 2/4, Step: 2800/12500, Loss: 1.7664\n",
      "Epoch: 2/4, Step: 2900/12500, Loss: 1.9686\n",
      "Epoch: 2/4, Step: 3000/12500, Loss: 2.5585\n",
      "Epoch: 2/4, Step: 3100/12500, Loss: 1.7998\n",
      "Epoch: 2/4, Step: 3200/12500, Loss: 1.8775\n",
      "Epoch: 2/4, Step: 3300/12500, Loss: 1.9932\n",
      "Epoch: 2/4, Step: 3400/12500, Loss: 2.1416\n",
      "Epoch: 2/4, Step: 3500/12500, Loss: 1.8011\n",
      "Epoch: 2/4, Step: 3600/12500, Loss: 1.8235\n",
      "Epoch: 2/4, Step: 3700/12500, Loss: 2.7125\n",
      "Epoch: 2/4, Step: 3800/12500, Loss: 1.8749\n",
      "Epoch: 2/4, Step: 3900/12500, Loss: 1.7435\n",
      "Epoch: 2/4, Step: 4000/12500, Loss: 2.7163\n",
      "Epoch: 2/4, Step: 4100/12500, Loss: 2.4088\n",
      "Epoch: 2/4, Step: 4200/12500, Loss: 1.8667\n",
      "Epoch: 2/4, Step: 4300/12500, Loss: 2.0496\n",
      "Epoch: 2/4, Step: 4400/12500, Loss: 2.1615\n",
      "Epoch: 2/4, Step: 4500/12500, Loss: 1.6779\n",
      "Epoch: 2/4, Step: 4600/12500, Loss: 2.1658\n",
      "Epoch: 2/4, Step: 4700/12500, Loss: 2.1440\n",
      "Epoch: 2/4, Step: 4800/12500, Loss: 1.7758\n",
      "Epoch: 2/4, Step: 4900/12500, Loss: 2.5670\n",
      "Epoch: 2/4, Step: 5000/12500, Loss: 2.1884\n",
      "Epoch: 2/4, Step: 5100/12500, Loss: 1.6777\n",
      "Epoch: 2/4, Step: 5200/12500, Loss: 3.0008\n",
      "Epoch: 2/4, Step: 5300/12500, Loss: 2.1666\n",
      "Epoch: 2/4, Step: 5400/12500, Loss: 1.2978\n",
      "Epoch: 2/4, Step: 5500/12500, Loss: 1.9660\n",
      "Epoch: 2/4, Step: 5600/12500, Loss: 2.0389\n",
      "Epoch: 2/4, Step: 5700/12500, Loss: 1.8610\n",
      "Epoch: 2/4, Step: 5800/12500, Loss: 2.2241\n",
      "Epoch: 2/4, Step: 5900/12500, Loss: 1.6050\n",
      "Epoch: 2/4, Step: 6000/12500, Loss: 2.0660\n",
      "Epoch: 2/4, Step: 6100/12500, Loss: 1.5187\n",
      "Epoch: 2/4, Step: 6200/12500, Loss: 1.4932\n",
      "Epoch: 2/4, Step: 6300/12500, Loss: 2.3070\n",
      "Epoch: 2/4, Step: 6400/12500, Loss: 1.9171\n",
      "Epoch: 2/4, Step: 6500/12500, Loss: 1.6288\n",
      "Epoch: 2/4, Step: 6600/12500, Loss: 1.7520\n"
     ]
    },
    {
     "name": "stdout",
     "output_type": "stream",
     "text": [
      "Epoch: 2/4, Step: 6700/12500, Loss: 1.8183\n",
      "Epoch: 2/4, Step: 6800/12500, Loss: 1.7409\n",
      "Epoch: 2/4, Step: 6900/12500, Loss: 1.8515\n",
      "Epoch: 2/4, Step: 7000/12500, Loss: 1.6556\n",
      "Epoch: 2/4, Step: 7100/12500, Loss: 1.5712\n",
      "Epoch: 2/4, Step: 7200/12500, Loss: 2.0723\n",
      "Epoch: 2/4, Step: 7300/12500, Loss: 1.7208\n",
      "Epoch: 2/4, Step: 7400/12500, Loss: 1.6480\n",
      "Epoch: 2/4, Step: 7500/12500, Loss: 1.7270\n",
      "Epoch: 2/4, Step: 7600/12500, Loss: 2.1119\n",
      "Epoch: 2/4, Step: 7700/12500, Loss: 1.9654\n",
      "Epoch: 2/4, Step: 7800/12500, Loss: 2.3497\n",
      "Epoch: 2/4, Step: 7900/12500, Loss: 1.9956\n",
      "Epoch: 2/4, Step: 8000/12500, Loss: 2.0786\n",
      "Epoch: 2/4, Step: 8100/12500, Loss: 2.0266\n",
      "Epoch: 2/4, Step: 8200/12500, Loss: 1.5446\n",
      "Epoch: 2/4, Step: 8300/12500, Loss: 1.8239\n",
      "Epoch: 2/4, Step: 8400/12500, Loss: 1.8325\n",
      "Epoch: 2/4, Step: 8500/12500, Loss: 1.8053\n",
      "Epoch: 2/4, Step: 8600/12500, Loss: 1.9393\n",
      "Epoch: 2/4, Step: 8700/12500, Loss: 1.9256\n",
      "Epoch: 2/4, Step: 8800/12500, Loss: 2.2722\n",
      "Epoch: 2/4, Step: 8900/12500, Loss: 2.0298\n",
      "Epoch: 2/4, Step: 9000/12500, Loss: 2.4322\n",
      "Epoch: 2/4, Step: 9100/12500, Loss: 1.7648\n",
      "Epoch: 2/4, Step: 9200/12500, Loss: 2.5065\n",
      "Epoch: 2/4, Step: 9300/12500, Loss: 1.8855\n",
      "Epoch: 2/4, Step: 9400/12500, Loss: 1.6130\n",
      "Epoch: 2/4, Step: 9500/12500, Loss: 2.3577\n",
      "Epoch: 2/4, Step: 9600/12500, Loss: 2.1960\n",
      "Epoch: 2/4, Step: 9700/12500, Loss: 2.6115\n",
      "Epoch: 2/4, Step: 9800/12500, Loss: 2.6152\n",
      "Epoch: 2/4, Step: 9900/12500, Loss: 2.1445\n",
      "Epoch: 2/4, Step: 10000/12500, Loss: 2.7615\n",
      "Epoch: 2/4, Step: 10100/12500, Loss: 1.8622\n",
      "Epoch: 2/4, Step: 10200/12500, Loss: 2.7248\n",
      "Epoch: 2/4, Step: 10300/12500, Loss: 1.5776\n",
      "Epoch: 2/4, Step: 10400/12500, Loss: 2.0138\n",
      "Epoch: 2/4, Step: 10500/12500, Loss: 1.3209\n",
      "Epoch: 2/4, Step: 10600/12500, Loss: 1.7097\n",
      "Epoch: 2/4, Step: 10700/12500, Loss: 1.9977\n",
      "Epoch: 2/4, Step: 10800/12500, Loss: 1.9457\n",
      "Epoch: 2/4, Step: 10900/12500, Loss: 2.1353\n",
      "Epoch: 2/4, Step: 11000/12500, Loss: 1.3480\n",
      "Epoch: 2/4, Step: 11100/12500, Loss: 1.4285\n",
      "Epoch: 2/4, Step: 11200/12500, Loss: 2.0205\n",
      "Epoch: 2/4, Step: 11300/12500, Loss: 1.9109\n",
      "Epoch: 2/4, Step: 11400/12500, Loss: 1.7296\n",
      "Epoch: 2/4, Step: 11500/12500, Loss: 1.5000\n",
      "Epoch: 2/4, Step: 11600/12500, Loss: 1.8219\n",
      "Epoch: 2/4, Step: 11700/12500, Loss: 1.2644\n",
      "Epoch: 2/4, Step: 11800/12500, Loss: 1.4195\n",
      "Epoch: 2/4, Step: 11900/12500, Loss: 2.4165\n",
      "Epoch: 2/4, Step: 12000/12500, Loss: 1.4511\n",
      "Epoch: 2/4, Step: 12100/12500, Loss: 1.8195\n",
      "Epoch: 2/4, Step: 12200/12500, Loss: 1.6249\n",
      "Epoch: 2/4, Step: 12300/12500, Loss: 2.0457\n",
      "Epoch: 2/4, Step: 12400/12500, Loss: 1.4751\n",
      "Epoch: 2/4, Step: 12500/12500, Loss: 2.0069\n",
      "Epoch: 3/4, Step: 100/12500, Loss: 1.9355\n",
      "Epoch: 3/4, Step: 200/12500, Loss: 1.3844\n",
      "Epoch: 3/4, Step: 300/12500, Loss: 1.5548\n",
      "Epoch: 3/4, Step: 400/12500, Loss: 1.1646\n",
      "Epoch: 3/4, Step: 500/12500, Loss: 1.7047\n",
      "Epoch: 3/4, Step: 600/12500, Loss: 1.3757\n",
      "Epoch: 3/4, Step: 700/12500, Loss: 2.2472\n",
      "Epoch: 3/4, Step: 800/12500, Loss: 2.6703\n",
      "Epoch: 3/4, Step: 900/12500, Loss: 1.6626\n",
      "Epoch: 3/4, Step: 1000/12500, Loss: 2.1779\n",
      "Epoch: 3/4, Step: 1100/12500, Loss: 2.1885\n",
      "Epoch: 3/4, Step: 1200/12500, Loss: 1.6357\n",
      "Epoch: 3/4, Step: 1300/12500, Loss: 1.5017\n",
      "Epoch: 3/4, Step: 1400/12500, Loss: 1.2755\n",
      "Epoch: 3/4, Step: 1500/12500, Loss: 2.5665\n",
      "Epoch: 3/4, Step: 1600/12500, Loss: 1.6728\n",
      "Epoch: 3/4, Step: 1700/12500, Loss: 2.5074\n",
      "Epoch: 3/4, Step: 1800/12500, Loss: 1.8964\n",
      "Epoch: 3/4, Step: 1900/12500, Loss: 1.8180\n",
      "Epoch: 3/4, Step: 2000/12500, Loss: 1.4594\n",
      "Epoch: 3/4, Step: 2100/12500, Loss: 1.6397\n",
      "Epoch: 3/4, Step: 2200/12500, Loss: 1.9367\n",
      "Epoch: 3/4, Step: 2300/12500, Loss: 1.5775\n",
      "Epoch: 3/4, Step: 2400/12500, Loss: 0.9917\n",
      "Epoch: 3/4, Step: 2500/12500, Loss: 1.6816\n",
      "Epoch: 3/4, Step: 2600/12500, Loss: 1.5550\n",
      "Epoch: 3/4, Step: 2700/12500, Loss: 2.0539\n",
      "Epoch: 3/4, Step: 2800/12500, Loss: 1.7996\n",
      "Epoch: 3/4, Step: 2900/12500, Loss: 2.0241\n",
      "Epoch: 3/4, Step: 3000/12500, Loss: 1.8901\n",
      "Epoch: 3/4, Step: 3100/12500, Loss: 1.9229\n",
      "Epoch: 3/4, Step: 3200/12500, Loss: 1.7524\n",
      "Epoch: 3/4, Step: 3300/12500, Loss: 1.6149\n",
      "Epoch: 3/4, Step: 3400/12500, Loss: 1.7312\n",
      "Epoch: 3/4, Step: 3500/12500, Loss: 2.3807\n",
      "Epoch: 3/4, Step: 3600/12500, Loss: 1.5483\n",
      "Epoch: 3/4, Step: 3700/12500, Loss: 1.6019\n",
      "Epoch: 3/4, Step: 3800/12500, Loss: 1.5751\n",
      "Epoch: 3/4, Step: 3900/12500, Loss: 1.3921\n",
      "Epoch: 3/4, Step: 4000/12500, Loss: 1.6795\n",
      "Epoch: 3/4, Step: 4100/12500, Loss: 2.1487\n",
      "Epoch: 3/4, Step: 4200/12500, Loss: 1.9561\n",
      "Epoch: 3/4, Step: 4300/12500, Loss: 1.2782\n",
      "Epoch: 3/4, Step: 4400/12500, Loss: 1.3020\n",
      "Epoch: 3/4, Step: 4500/12500, Loss: 1.3797\n",
      "Epoch: 3/4, Step: 4600/12500, Loss: 1.1093\n",
      "Epoch: 3/4, Step: 4700/12500, Loss: 2.7527\n",
      "Epoch: 3/4, Step: 4800/12500, Loss: 1.6432\n",
      "Epoch: 3/4, Step: 4900/12500, Loss: 1.2291\n",
      "Epoch: 3/4, Step: 5000/12500, Loss: 1.4874\n",
      "Epoch: 3/4, Step: 5100/12500, Loss: 2.6041\n",
      "Epoch: 3/4, Step: 5200/12500, Loss: 2.6310\n",
      "Epoch: 3/4, Step: 5300/12500, Loss: 1.5706\n",
      "Epoch: 3/4, Step: 5400/12500, Loss: 1.4002\n",
      "Epoch: 3/4, Step: 5500/12500, Loss: 1.8149\n",
      "Epoch: 3/4, Step: 5600/12500, Loss: 1.1979\n",
      "Epoch: 3/4, Step: 5700/12500, Loss: 1.2471\n",
      "Epoch: 3/4, Step: 5800/12500, Loss: 2.1396\n",
      "Epoch: 3/4, Step: 5900/12500, Loss: 1.3822\n",
      "Epoch: 3/4, Step: 6000/12500, Loss: 1.7081\n",
      "Epoch: 3/4, Step: 6100/12500, Loss: 1.2027\n",
      "Epoch: 3/4, Step: 6200/12500, Loss: 1.5628\n",
      "Epoch: 3/4, Step: 6300/12500, Loss: 1.3392\n",
      "Epoch: 3/4, Step: 6400/12500, Loss: 1.9137\n",
      "Epoch: 3/4, Step: 6500/12500, Loss: 1.8106\n",
      "Epoch: 3/4, Step: 6600/12500, Loss: 1.6775\n",
      "Epoch: 3/4, Step: 6700/12500, Loss: 0.8851\n",
      "Epoch: 3/4, Step: 6800/12500, Loss: 1.5394\n",
      "Epoch: 3/4, Step: 6900/12500, Loss: 2.7676\n",
      "Epoch: 3/4, Step: 7000/12500, Loss: 1.1311\n",
      "Epoch: 3/4, Step: 7100/12500, Loss: 2.0911\n",
      "Epoch: 3/4, Step: 7200/12500, Loss: 2.2101\n",
      "Epoch: 3/4, Step: 7300/12500, Loss: 1.2893\n",
      "Epoch: 3/4, Step: 7400/12500, Loss: 1.7561\n",
      "Epoch: 3/4, Step: 7500/12500, Loss: 1.1716\n",
      "Epoch: 3/4, Step: 7600/12500, Loss: 1.0553\n",
      "Epoch: 3/4, Step: 7700/12500, Loss: 2.0341\n",
      "Epoch: 3/4, Step: 7800/12500, Loss: 1.5430\n",
      "Epoch: 3/4, Step: 7900/12500, Loss: 1.7797\n",
      "Epoch: 3/4, Step: 8000/12500, Loss: 1.5629\n",
      "Epoch: 3/4, Step: 8100/12500, Loss: 2.2760\n",
      "Epoch: 3/4, Step: 8200/12500, Loss: 1.7797\n",
      "Epoch: 3/4, Step: 8300/12500, Loss: 1.7898\n",
      "Epoch: 3/4, Step: 8400/12500, Loss: 1.5582\n",
      "Epoch: 3/4, Step: 8500/12500, Loss: 1.9633\n",
      "Epoch: 3/4, Step: 8600/12500, Loss: 1.8376\n",
      "Epoch: 3/4, Step: 8700/12500, Loss: 1.6592\n",
      "Epoch: 3/4, Step: 8800/12500, Loss: 2.2858\n",
      "Epoch: 3/4, Step: 8900/12500, Loss: 1.6560\n",
      "Epoch: 3/4, Step: 9000/12500, Loss: 1.6181\n",
      "Epoch: 3/4, Step: 9100/12500, Loss: 1.3550\n",
      "Epoch: 3/4, Step: 9200/12500, Loss: 1.7495\n",
      "Epoch: 3/4, Step: 9300/12500, Loss: 1.4725\n",
      "Epoch: 3/4, Step: 9400/12500, Loss: 1.3280\n",
      "Epoch: 3/4, Step: 9500/12500, Loss: 1.4601\n",
      "Epoch: 3/4, Step: 9600/12500, Loss: 2.3707\n",
      "Epoch: 3/4, Step: 9700/12500, Loss: 1.6834\n",
      "Epoch: 3/4, Step: 9800/12500, Loss: 1.5302\n",
      "Epoch: 3/4, Step: 9900/12500, Loss: 0.9932\n",
      "Epoch: 3/4, Step: 10000/12500, Loss: 1.7513\n",
      "Epoch: 3/4, Step: 10100/12500, Loss: 1.6944\n",
      "Epoch: 3/4, Step: 10200/12500, Loss: 1.5231\n",
      "Epoch: 3/4, Step: 10300/12500, Loss: 2.5849\n",
      "Epoch: 3/4, Step: 10400/12500, Loss: 1.4333\n",
      "Epoch: 3/4, Step: 10500/12500, Loss: 1.6618\n",
      "Epoch: 3/4, Step: 10600/12500, Loss: 1.8456\n",
      "Epoch: 3/4, Step: 10700/12500, Loss: 1.4670\n",
      "Epoch: 3/4, Step: 10800/12500, Loss: 1.1853\n",
      "Epoch: 3/4, Step: 10900/12500, Loss: 1.4568\n",
      "Epoch: 3/4, Step: 11000/12500, Loss: 0.9154\n",
      "Epoch: 3/4, Step: 11100/12500, Loss: 1.6493\n",
      "Epoch: 3/4, Step: 11200/12500, Loss: 2.9436\n",
      "Epoch: 3/4, Step: 11300/12500, Loss: 1.1380\n",
      "Epoch: 3/4, Step: 11400/12500, Loss: 1.7009\n",
      "Epoch: 3/4, Step: 11500/12500, Loss: 2.3561\n",
      "Epoch: 3/4, Step: 11600/12500, Loss: 1.7430\n",
      "Epoch: 3/4, Step: 11700/12500, Loss: 1.8150\n",
      "Epoch: 3/4, Step: 11800/12500, Loss: 1.7386\n",
      "Epoch: 3/4, Step: 11900/12500, Loss: 1.8099\n",
      "Epoch: 3/4, Step: 12000/12500, Loss: 2.0709\n",
      "Epoch: 3/4, Step: 12100/12500, Loss: 1.4782\n",
      "Epoch: 3/4, Step: 12200/12500, Loss: 1.0342\n",
      "Epoch: 3/4, Step: 12300/12500, Loss: 1.5895\n",
      "Epoch: 3/4, Step: 12400/12500, Loss: 2.2156\n",
      "Epoch: 3/4, Step: 12500/12500, Loss: 1.6891\n",
      "Epoch: 4/4, Step: 100/12500, Loss: 1.0728\n",
      "Epoch: 4/4, Step: 200/12500, Loss: 1.5961\n",
      "Epoch: 4/4, Step: 300/12500, Loss: 1.8586\n",
      "Epoch: 4/4, Step: 400/12500, Loss: 1.8686\n",
      "Epoch: 4/4, Step: 500/12500, Loss: 1.7949\n",
      "Epoch: 4/4, Step: 600/12500, Loss: 1.4430\n",
      "Epoch: 4/4, Step: 700/12500, Loss: 1.1426\n"
     ]
    },
    {
     "name": "stdout",
     "output_type": "stream",
     "text": [
      "Epoch: 4/4, Step: 800/12500, Loss: 1.6118\n",
      "Epoch: 4/4, Step: 900/12500, Loss: 1.9301\n",
      "Epoch: 4/4, Step: 1000/12500, Loss: 1.3632\n",
      "Epoch: 4/4, Step: 1100/12500, Loss: 1.7323\n",
      "Epoch: 4/4, Step: 1200/12500, Loss: 1.7981\n",
      "Epoch: 4/4, Step: 1300/12500, Loss: 1.4414\n",
      "Epoch: 4/4, Step: 1400/12500, Loss: 1.4674\n",
      "Epoch: 4/4, Step: 1500/12500, Loss: 2.1255\n",
      "Epoch: 4/4, Step: 1600/12500, Loss: 1.1527\n",
      "Epoch: 4/4, Step: 1700/12500, Loss: 2.0200\n",
      "Epoch: 4/4, Step: 1800/12500, Loss: 1.6550\n",
      "Epoch: 4/4, Step: 1900/12500, Loss: 1.2686\n",
      "Epoch: 4/4, Step: 2000/12500, Loss: 1.1754\n",
      "Epoch: 4/4, Step: 2100/12500, Loss: 1.0477\n",
      "Epoch: 4/4, Step: 2200/12500, Loss: 1.1953\n",
      "Epoch: 4/4, Step: 2300/12500, Loss: 1.4746\n",
      "Epoch: 4/4, Step: 2400/12500, Loss: 1.4866\n",
      "Epoch: 4/4, Step: 2500/12500, Loss: 1.1344\n",
      "Epoch: 4/4, Step: 2600/12500, Loss: 1.7418\n",
      "Epoch: 4/4, Step: 2700/12500, Loss: 1.7845\n",
      "Epoch: 4/4, Step: 2800/12500, Loss: 1.6703\n",
      "Epoch: 4/4, Step: 2900/12500, Loss: 2.0346\n",
      "Epoch: 4/4, Step: 3000/12500, Loss: 1.4043\n",
      "Epoch: 4/4, Step: 3100/12500, Loss: 1.6111\n",
      "Epoch: 4/4, Step: 3200/12500, Loss: 1.0608\n",
      "Epoch: 4/4, Step: 3300/12500, Loss: 1.4749\n",
      "Epoch: 4/4, Step: 3400/12500, Loss: 1.2046\n",
      "Epoch: 4/4, Step: 3500/12500, Loss: 1.4429\n",
      "Epoch: 4/4, Step: 3600/12500, Loss: 1.3887\n",
      "Epoch: 4/4, Step: 3700/12500, Loss: 0.9941\n",
      "Epoch: 4/4, Step: 3800/12500, Loss: 1.7204\n",
      "Epoch: 4/4, Step: 3900/12500, Loss: 2.0428\n",
      "Epoch: 4/4, Step: 4000/12500, Loss: 1.6109\n",
      "Epoch: 4/4, Step: 4100/12500, Loss: 2.0867\n",
      "Epoch: 4/4, Step: 4200/12500, Loss: 1.5138\n",
      "Epoch: 4/4, Step: 4300/12500, Loss: 1.1610\n",
      "Epoch: 4/4, Step: 4400/12500, Loss: 2.5092\n",
      "Epoch: 4/4, Step: 4500/12500, Loss: 2.1840\n",
      "Epoch: 4/4, Step: 4600/12500, Loss: 1.9921\n",
      "Epoch: 4/4, Step: 4700/12500, Loss: 1.6272\n",
      "Epoch: 4/4, Step: 4800/12500, Loss: 2.5182\n",
      "Epoch: 4/4, Step: 4900/12500, Loss: 1.3337\n",
      "Epoch: 4/4, Step: 5000/12500, Loss: 2.2248\n",
      "Epoch: 4/4, Step: 5100/12500, Loss: 1.3521\n",
      "Epoch: 4/4, Step: 5200/12500, Loss: 1.8109\n",
      "Epoch: 4/4, Step: 5300/12500, Loss: 0.9997\n",
      "Epoch: 4/4, Step: 5400/12500, Loss: 1.7382\n",
      "Epoch: 4/4, Step: 5500/12500, Loss: 1.1127\n",
      "Epoch: 4/4, Step: 5600/12500, Loss: 1.1581\n",
      "Epoch: 4/4, Step: 5700/12500, Loss: 1.0231\n",
      "Epoch: 4/4, Step: 5800/12500, Loss: 1.3618\n",
      "Epoch: 4/4, Step: 5900/12500, Loss: 0.8592\n",
      "Epoch: 4/4, Step: 6000/12500, Loss: 1.2786\n",
      "Epoch: 4/4, Step: 6100/12500, Loss: 1.2931\n",
      "Epoch: 4/4, Step: 6200/12500, Loss: 1.6870\n",
      "Epoch: 4/4, Step: 6300/12500, Loss: 2.6872\n",
      "Epoch: 4/4, Step: 6400/12500, Loss: 1.9241\n",
      "Epoch: 4/4, Step: 6500/12500, Loss: 1.6120\n",
      "Epoch: 4/4, Step: 6600/12500, Loss: 1.1790\n",
      "Epoch: 4/4, Step: 6700/12500, Loss: 1.7685\n",
      "Epoch: 4/4, Step: 6800/12500, Loss: 1.7039\n",
      "Epoch: 4/4, Step: 6900/12500, Loss: 1.5172\n",
      "Epoch: 4/4, Step: 7000/12500, Loss: 1.7803\n",
      "Epoch: 4/4, Step: 7100/12500, Loss: 1.6843\n",
      "Epoch: 4/4, Step: 7200/12500, Loss: 2.1381\n",
      "Epoch: 4/4, Step: 7300/12500, Loss: 1.8099\n",
      "Epoch: 4/4, Step: 7400/12500, Loss: 1.2864\n",
      "Epoch: 4/4, Step: 7500/12500, Loss: 2.2991\n",
      "Epoch: 4/4, Step: 7600/12500, Loss: 1.3235\n",
      "Epoch: 4/4, Step: 7700/12500, Loss: 1.4691\n",
      "Epoch: 4/4, Step: 7800/12500, Loss: 1.1594\n",
      "Epoch: 4/4, Step: 7900/12500, Loss: 1.6642\n",
      "Epoch: 4/4, Step: 8000/12500, Loss: 1.6320\n",
      "Epoch: 4/4, Step: 8100/12500, Loss: 1.1789\n",
      "Epoch: 4/4, Step: 8200/12500, Loss: 1.9204\n",
      "Epoch: 4/4, Step: 8300/12500, Loss: 1.5685\n",
      "Epoch: 4/4, Step: 8400/12500, Loss: 1.8930\n",
      "Epoch: 4/4, Step: 8500/12500, Loss: 1.4519\n",
      "Epoch: 4/4, Step: 8600/12500, Loss: 1.9385\n",
      "Epoch: 4/4, Step: 8700/12500, Loss: 1.4922\n",
      "Epoch: 4/4, Step: 8800/12500, Loss: 1.3811\n",
      "Epoch: 4/4, Step: 8900/12500, Loss: 1.1210\n",
      "Epoch: 4/4, Step: 9000/12500, Loss: 1.9866\n",
      "Epoch: 4/4, Step: 9100/12500, Loss: 1.8201\n",
      "Epoch: 4/4, Step: 9200/12500, Loss: 2.0293\n",
      "Epoch: 4/4, Step: 9300/12500, Loss: 1.7908\n",
      "Epoch: 4/4, Step: 9400/12500, Loss: 1.5659\n",
      "Epoch: 4/4, Step: 9500/12500, Loss: 1.5136\n",
      "Epoch: 4/4, Step: 9600/12500, Loss: 1.0429\n",
      "Epoch: 4/4, Step: 9700/12500, Loss: 1.1590\n",
      "Epoch: 4/4, Step: 9800/12500, Loss: 1.1677\n",
      "Epoch: 4/4, Step: 9900/12500, Loss: 1.7356\n",
      "Epoch: 4/4, Step: 10000/12500, Loss: 1.3432\n",
      "Epoch: 4/4, Step: 10100/12500, Loss: 0.8970\n",
      "Epoch: 4/4, Step: 10200/12500, Loss: 1.3219\n",
      "Epoch: 4/4, Step: 10300/12500, Loss: 2.1451\n",
      "Epoch: 4/4, Step: 10400/12500, Loss: 0.9574\n",
      "Epoch: 4/4, Step: 10500/12500, Loss: 2.0082\n",
      "Epoch: 4/4, Step: 10600/12500, Loss: 1.3727\n",
      "Epoch: 4/4, Step: 10700/12500, Loss: 1.6410\n",
      "Epoch: 4/4, Step: 10800/12500, Loss: 1.6203\n",
      "Epoch: 4/4, Step: 10900/12500, Loss: 1.0046\n",
      "Epoch: 4/4, Step: 11000/12500, Loss: 2.0470\n",
      "Epoch: 4/4, Step: 11100/12500, Loss: 1.2735\n",
      "Epoch: 4/4, Step: 11200/12500, Loss: 1.1166\n",
      "Epoch: 4/4, Step: 11300/12500, Loss: 1.9623\n",
      "Epoch: 4/4, Step: 11400/12500, Loss: 2.0645\n",
      "Epoch: 4/4, Step: 11500/12500, Loss: 0.9397\n",
      "Epoch: 4/4, Step: 11600/12500, Loss: 0.6355\n",
      "Epoch: 4/4, Step: 11700/12500, Loss: 1.8541\n",
      "Epoch: 4/4, Step: 11800/12500, Loss: 0.8612\n",
      "Epoch: 4/4, Step: 11900/12500, Loss: 1.0932\n",
      "Epoch: 4/4, Step: 12000/12500, Loss: 1.8119\n",
      "Epoch: 4/4, Step: 12100/12500, Loss: 0.7467\n",
      "Epoch: 4/4, Step: 12200/12500, Loss: 1.2856\n",
      "Epoch: 4/4, Step: 12300/12500, Loss: 1.9355\n",
      "Epoch: 4/4, Step: 12400/12500, Loss: 1.5008\n",
      "Epoch: 4/4, Step: 12500/12500, Loss: 1.3933\n",
      "Accuracy: 45.86 %\n",
      "Accuracy: plane: 47.8 %\n",
      "Accuracy: car: 71.4 %\n",
      "Accuracy: bird: 28.5 %\n",
      "Accuracy: cat: 10.6 %\n",
      "Accuracy: deer: 29.7 %\n",
      "Accuracy: dog: 45.7 %\n",
      "Accuracy: frog: 62.7 %\n",
      "Accuracy: horse: 61.4 %\n",
      "Accuracy: ship: 57.8 %\n",
      "Accuracy: truck: 43.0 %\n"
     ]
    }
   ],
   "source": [
    "import torch\n",
    "import torch.nn as nn\n",
    "import torch.nn.functional as F\n",
    "import torchvision\n",
    "import torchvision.transforms as transforms\n",
    "import matplotlib.pyplot as plt\n",
    "import numpy as np\n",
    "\n",
    "# device config\n",
    "device = torch.device(\"cuda\" if torch.cuda.is_available() else \"cpu\")\n",
    "print(f\"Device used: {device}\")\n",
    "\n",
    "# hyperparameters\n",
    "n_epochs = 4\n",
    "batch_size = 4\n",
    "learning_rate = 0.001\n",
    "\n",
    "# transforms\n",
    "transform = transforms.Compose([transforms.ToTensor(), transforms.Normalize((0.5, 0.5, 0.5), (0.5, 0.5, 0.5))])\n",
    "\n",
    "# dataset\n",
    "train_dataset = torchvision.datasets.CIFAR10(root=\"../data\", train=True, download=False, transform=transform)\n",
    "test_dataset = torchvision.datasets.CIFAR10(root=\"../data\", train=False, download=False, transform=transform)\n",
    "\n",
    "# dataloader\n",
    "train_loader = torch.utils.data.DataLoader(train_dataset, batch_size=batch_size, shuffle=True)\n",
    "test_loader = torch.utils.data.DataLoader(test_dataset, batch_size=batch_size, shuffle=False)\n",
    "\n",
    "# plot samples\n",
    "def imshow(img):\n",
    "    img = img/2 + 0.5 # unnormalize\n",
    "    npimg = img.numpy()\n",
    "    plt.imshow(np.transpose(npimg, (1, 2, 0)))\n",
    "    plt.show()\n",
    "\n",
    "examples = iter(train_loader)\n",
    "samples, labels = next(examples)\n",
    "print(samples.shape, labels.shape)\n",
    "\n",
    "imshow(torchvision.utils.make_grid(samples))\n",
    "    \n",
    "# define classes\n",
    "classes = (\"plane\", \"car\", \"bird\", \"cat\", \"deer\", \"dog\", \"frog\", \"horse\", \"ship\", \"truck\")\n",
    "\n",
    "# define model\n",
    "class ConvNet(nn.Module):\n",
    "    def __init__(self):\n",
    "        super(ConvNet, self).__init__()\n",
    "        self.conv1 = nn.Conv2d(in_channels=3, out_channels=6, kernel_size=5)\n",
    "        self.pool = nn.MaxPool2d(kernel_size=2, stride=2)\n",
    "        self.conv2 = nn.Conv2d(in_channels=6, out_channels=16, kernel_size=5)\n",
    "        self.fc1 = nn.Linear(in_features=16*5*5, out_features=120)\n",
    "        self.fc2 = nn.Linear(in_features=120, out_features=84)\n",
    "        self.fc3 = nn.Linear(in_features=84, out_features=10)\n",
    "    \n",
    "    def forward(self, x):\n",
    "        x = self.pool(F.relu(self.conv1(x)))\n",
    "        x = self.pool(F.relu(self.conv2(x)))\n",
    "        x = x.view(-1, 16*5*5)\n",
    "        x = F.relu(self.fc1(x))\n",
    "        x = F.relu(self.fc2(x))\n",
    "        x = self.fc3(x)\n",
    "        return x\n",
    "    \n",
    "    \n",
    "model = ConvNet().to(device)\n",
    "\n",
    "# define loss & optimizer\n",
    "criterion = nn.CrossEntropyLoss()\n",
    "optimizer = torch.optim.SGD(model.parameters(), lr=learning_rate)\n",
    "\n",
    "# training loop\n",
    "n_total_steps = len(train_loader)\n",
    "for epoch in range(n_epochs):\n",
    "    for i, (images, labels) in enumerate(train_loader):\n",
    "        # images have shape [4, 3, 32, 32] -> [4, 3, 1024]\n",
    "        # input layer has 3 input channels, 6 oput channels, 5 kernel size\n",
    "        images = images.to(device)\n",
    "        labels = labels.to(device)\n",
    "        \n",
    "        # forward\n",
    "        outputs = model(images)\n",
    "        loss = criterion(outputs, labels)\n",
    "        \n",
    "        # backward\n",
    "        optimizer.zero_grad()\n",
    "        loss.backward()\n",
    "        \n",
    "        # update\n",
    "        optimizer.step()\n",
    "        \n",
    "        if (i + 1) % 100 == 0:\n",
    "            print(f\"Epoch: {epoch + 1}/{n_epochs}, Step: {i+1}/{n_total_steps}, Loss: {loss.item():.4f}\")\n",
    "            \n",
    "# evaluation\n",
    "with torch.no_grad():\n",
    "    n_correct = 0\n",
    "    n_samples = 0\n",
    "    n_class_correct = [0 for i in range(10)]\n",
    "    n_class_samples = [0 for i in range(10)]\n",
    "    for images, labels in test_loader:\n",
    "        # reshape images from 100 x 1 x 28 x 28 --> 100 x 784\n",
    "        images = images.to(device)\n",
    "        labels = labels.to(device)\n",
    "        \n",
    "        outputs = model(images)\n",
    "        \n",
    "        # returns value, index and we are interested in \"index\"\n",
    "        _, predictions = torch.max(outputs, axis=1)\n",
    "        n_samples = n_samples + labels.shape[0]\n",
    "        n_correct = n_correct + (predictions == labels).sum().item()\n",
    "        \n",
    "        for i in range(batch_size):\n",
    "            label = labels[i]\n",
    "            pred = predictions[i]\n",
    "            if label == pred:\n",
    "                n_class_correct[label] += 1\n",
    "            n_class_samples[label] += 1\n",
    "        \n",
    "    acc = 100.0 * (n_correct/n_samples)\n",
    "    print(f\"Accuracy: {acc} %\")\n",
    "    \n",
    "    for i in range(10):\n",
    "        acc = 100 * n_class_correct[i] / n_class_samples[i]\n",
    "        print(f\"Accuracy: {classes[i]}: {acc} %\")"
   ]
  },
  {
   "cell_type": "markdown",
   "id": "c3ded735",
   "metadata": {},
   "source": [
    "## Transfer learning"
   ]
  },
  {
   "cell_type": "code",
   "execution_count": 44,
   "id": "7f2a837e",
   "metadata": {
    "ExecuteTime": {
     "end_time": "2023-05-07T16:52:32.555628Z",
     "start_time": "2023-05-07T16:52:32.547158Z"
    }
   },
   "outputs": [],
   "source": [
    "import torch\n",
    "import torch.nn as nn\n",
    "import torch.optim as optim\n",
    "from torch.optim import lr_scheduler\n",
    "import numpy as np\n",
    "import torchvision\n",
    "from torchvision import datasets, models, transforms\n",
    "import matplotlib.pyplot as plt\n",
    "import time\n",
    "import os\n",
    "import copy"
   ]
  },
  {
   "cell_type": "code",
   "execution_count": 45,
   "id": "c001ba37",
   "metadata": {
    "ExecuteTime": {
     "end_time": "2023-05-07T16:52:56.751603Z",
     "start_time": "2023-05-07T16:52:32.557900Z"
    }
   },
   "outputs": [
    {
     "name": "stdout",
     "output_type": "stream",
     "text": [
      "Device used: cpu\n",
      "['ants', 'bees']\n"
     ]
    },
    {
     "data": {
      "image/png": "[encoded data removed]",
      "text/plain": [
       "<Figure size 432x288 with 1 Axes>"
      ]
     },
     "metadata": {
      "needs_background": "light"
     },
     "output_type": "display_data"
    },
    {
     "name": "stderr",
     "output_type": "stream",
     "text": [
      "/home/kartheek/anaconda3/envs/pytorch_env/lib/python3.8/site-packages/torchvision/models/_utils.py:208: UserWarning: The parameter 'pretrained' is deprecated since 0.13 and may be removed in the future, please use 'weights' instead.\n",
      "  warnings.warn(\n",
      "/home/kartheek/anaconda3/envs/pytorch_env/lib/python3.8/site-packages/torchvision/models/_utils.py:223: UserWarning: Arguments other than a weight enum or `None` for 'weights' are deprecated since 0.13 and may be removed in the future. The current behavior is equivalent to passing `weights=ResNet18_Weights.IMAGENET1K_V1`. You can also use `weights=ResNet18_Weights.DEFAULT` to get the most up-to-date weights.\n",
      "  warnings.warn(msg)\n"
     ]
    },
    {
     "name": "stdout",
     "output_type": "stream",
     "text": [
      "Epoch 0/1\n",
      "----------\n",
      "train Loss: 0.6856 Acc: 0.5984\n",
      "val Loss: 0.5128 Acc: 0.8105\n",
      "\n",
      "Epoch 1/1\n",
      "----------\n",
      "train Loss: 0.5359 Acc: 0.7910\n",
      "val Loss: 0.3824 Acc: 0.8824\n",
      "\n",
      "Training complete in 0m 24s\n",
      "Best val Acc: 0.882353\n"
     ]
    }
   ],
   "source": [
    "# device config\n",
    "device = torch.device(\"cuda\" if torch.cuda.is_available() else \"cpu\")\n",
    "print(f\"Device used: {device}\")\n",
    "\n",
    "mean = np.array([0.485, 0.456, 0.406])\n",
    "std = np.array([0.229, 0.224, 0.225])\n",
    "\n",
    "# transforms\n",
    "data_transforms = {\n",
    "    \"train\":\n",
    "    transforms.Compose([\n",
    "        transforms.RandomResizedCrop(224),\n",
    "        transforms.RandomHorizontalFlip(),\n",
    "        transforms.ToTensor(),\n",
    "        transforms.Normalize(mean, std)\n",
    "    ]),\n",
    "    \"val\":\n",
    "    transforms.Compose([\n",
    "        transforms.Resize(256),\n",
    "        transforms.CenterCrop(224),\n",
    "        transforms.ToTensor(),\n",
    "        transforms.Normalize(mean, std)\n",
    "    ])\n",
    "}\n",
    "\n",
    "# load datasets\n",
    "data_dir = \"../data/hymenoptera_data\"\n",
    "sets = [\"train\", \"val\"]\n",
    "image_datasets = {\n",
    "    x: datasets.ImageFolder(os.path.join(data_dir, x), data_transforms[x])\n",
    "    for x in sets\n",
    "}\n",
    "dataloaders = {\n",
    "    x: torch.utils.data.DataLoader(image_datasets[x],\n",
    "                                   batch_size=4,\n",
    "                                   shuffle=True,\n",
    "                                   num_workers=0)\n",
    "    for x in sets\n",
    "}\n",
    "dataset_sizes = {x: len(image_datasets[x]) for x in sets}\n",
    "class_names = image_datasets[\"train\"].classes\n",
    "print(class_names)\n",
    "\n",
    "\n",
    "# plot some samples\n",
    "def imshow(inp, title):\n",
    "    \"\"\"Imshow for Tensor.\"\"\"\n",
    "    inp = inp.numpy().transpose((1, 2, 0))\n",
    "    inp = std * inp + mean\n",
    "    inp = np.clip(inp, 0, 1)\n",
    "    plt.imshow(inp)\n",
    "    plt.title(title)\n",
    "    plt.show()\n",
    "\n",
    "\n",
    "inputs, classes = next(iter(dataloaders['train']))\n",
    "out = torchvision.utils.make_grid(inputs)\n",
    "imshow(out, title=[class_names[x] for x in classes])\n",
    "\n",
    "\n",
    "# training method\n",
    "def train_model(model, criterion, optimizer, scheduler, num_epochs=25):\n",
    "    since = time.time()\n",
    "\n",
    "    best_model_wts = copy.deepcopy(model.state_dict())\n",
    "    best_acc = 0.0\n",
    "\n",
    "    for epoch in range(num_epochs):\n",
    "        print('Epoch {}/{}'.format(epoch, num_epochs - 1))\n",
    "        print('-' * 10)\n",
    "\n",
    "        # Each epoch has a training and validation phase\n",
    "        for phase in ['train', 'val']:\n",
    "            if phase == 'train':\n",
    "                model.train()  # Set model to training mode\n",
    "            else:\n",
    "                model.eval()  # Set model to evaluate mode\n",
    "\n",
    "            running_loss = 0.0\n",
    "            running_corrects = 0\n",
    "\n",
    "            # Iterate over data.\n",
    "            for inputs, labels in dataloaders[phase]:\n",
    "                inputs = inputs.to(device)\n",
    "                labels = labels.to(device)\n",
    "\n",
    "                # forward\n",
    "                # track history if only in train\n",
    "                with torch.set_grad_enabled(phase == 'train'):\n",
    "                    outputs = model(inputs)\n",
    "                    _, preds = torch.max(outputs, 1)\n",
    "                    loss = criterion(outputs, labels)\n",
    "\n",
    "                    # backward + optimize only if in training phase\n",
    "                    if phase == 'train':\n",
    "                        optimizer.zero_grad()\n",
    "                        loss.backward()\n",
    "                        optimizer.step()\n",
    "\n",
    "                # statistics\n",
    "                running_loss += loss.item() * inputs.size(0)\n",
    "                running_corrects += torch.sum(preds == labels.data)\n",
    "\n",
    "            if phase == 'train':\n",
    "                scheduler.step()\n",
    "\n",
    "            epoch_loss = running_loss / dataset_sizes[phase]\n",
    "            epoch_acc = running_corrects.double() / dataset_sizes[phase]\n",
    "\n",
    "            print('{} Loss: {:.4f} Acc: {:.4f}'.format(phase, epoch_loss,\n",
    "                                                       epoch_acc))\n",
    "\n",
    "            # deep copy the model\n",
    "            if phase == 'val' and epoch_acc > best_acc:\n",
    "                best_acc = epoch_acc\n",
    "                best_model_wts = copy.deepcopy(model.state_dict())\n",
    "\n",
    "        print()\n",
    "    time_elapsed = time.time() - since\n",
    "    print('Training complete in {:.0f}m {:.0f}s'.format(\n",
    "        time_elapsed // 60, time_elapsed % 60))\n",
    "    print('Best val Acc: {:4f}'.format(best_acc))\n",
    "\n",
    "    # load best model weights\n",
    "    model.load_state_dict(best_model_wts)\n",
    "    return model\n",
    "\n",
    "# import pre-trained model\n",
    "## fine-tuning\n",
    "model = models.resnet18(pretrained=True)\n",
    "num_features = model.fc.in_features\n",
    "model.fc = nn.Linear(num_features, 2)\n",
    "model.to(device)\n",
    "\n",
    "# ## freeze all layers except last layer\n",
    "# model = models.resnet18(pretrained=True)\n",
    "# for param in model.parameters():\n",
    "#     param.requires_grad = False\n",
    "# num_features = model.fc.in_features\n",
    "# model.fc = nn.Linear(num_features, 2)\n",
    "# model.to(device)\n",
    "\n",
    "# define loss & optimizer\n",
    "criterion = nn.CrossEntropyLoss()\n",
    "optimizer = optim.SGD(model.parameters(), lr=0.001)\n",
    "\n",
    "# setup scheduler - updates learning_rate\n",
    "# # Every 7 epochs, our lr is multiplied by 0.1 (i.e. 10%)\n",
    "step_lr_scheduler = lr_scheduler.StepLR(optimizer, step_size=7, gamma=0.1)\n",
    "\n",
    "model = train_model(model, criterion, optimizer, step_lr_scheduler, num_epochs=2)"
   ]
  },
  {
   "cell_type": "markdown",
   "id": "0b1199f5",
   "metadata": {},
   "source": [
    "## Using Tensorboard"
   ]
  },
  {
   "cell_type": "code",
   "execution_count": 50,
   "id": "0e4d6016",
   "metadata": {
    "ExecuteTime": {
     "end_time": "2023-05-07T17:17:51.491291Z",
     "start_time": "2023-05-07T17:17:43.619312Z"
    },
    "scrolled": true
   },
   "outputs": [
    {
     "name": "stdout",
     "output_type": "stream",
     "text": [
      "Device used: cpu\n",
      "torch.Size([100, 1, 28, 28]) torch.Size([100])\n",
      "Epoch: 1/2, Step: 100/600, Loss: 0.2130\n",
      "Epoch: 1/2, Step: 200/600, Loss: 0.5668\n",
      "Epoch: 1/2, Step: 300/600, Loss: 0.1720\n",
      "Epoch: 1/2, Step: 400/600, Loss: 0.1989\n",
      "Epoch: 1/2, Step: 500/600, Loss: 0.1172\n",
      "Epoch: 1/2, Step: 600/600, Loss: 0.1055\n",
      "Epoch: 2/2, Step: 100/600, Loss: 0.1319\n",
      "Epoch: 2/2, Step: 200/600, Loss: 0.1932\n",
      "Epoch: 2/2, Step: 300/600, Loss: 0.0504\n",
      "Epoch: 2/2, Step: 400/600, Loss: 0.1473\n",
      "Epoch: 2/2, Step: 500/600, Loss: 0.0651\n",
      "Epoch: 2/2, Step: 600/600, Loss: 0.1249\n",
      "Accuracy: 0.9400000000000001\n"
     ]
    },
    {
     "data": {
      "image/png": "[encoded data removed]",
      "text/plain": [
       "<Figure size 432x288 with 6 Axes>"
      ]
     },
     "metadata": {
      "needs_background": "light"
     },
     "output_type": "display_data"
    }
   ],
   "source": [
    "import torch\n",
    "import torch.nn as nn\n",
    "import torchvision\n",
    "import torchvision.transforms as transforms\n",
    "import matplotlib.pyplot as plt\n",
    "from torch.utils.tensorboard import SummaryWriter\n",
    "import sys\n",
    "\n",
    "# define tf-board\n",
    "writer = SummaryWriter(\"../runs/mnist\")\n",
    "\n",
    "# device config\n",
    "device = torch.device(\"cuda\" if torch.cuda.is_available() else \"cpu\")\n",
    "print(f\"Device used: {device}\")\n",
    "\n",
    "# hyperparameters\n",
    "input_size = 784 # 28 x 28\n",
    "hidden_size = 100\n",
    "num_classes = 10\n",
    "n_epochs = 2\n",
    "batch_size = 100\n",
    "learning_rate = 0.01\n",
    "\n",
    "# load data\n",
    "train_dataset = torchvision.datasets.MNIST(root=\"../data\", train=True, transform=transforms.ToTensor(), download=False)\n",
    "test_dataset = torchvision.datasets.MNIST(root=\"../data\", train=False, transform=transforms.ToTensor(), download=False)\n",
    "\n",
    "# data loader\n",
    "train_loader = torch.utils.data.DataLoader(dataset=train_dataset, batch_size=batch_size, shuffle=True)\n",
    "test_loader = torch.utils.data.DataLoader(dataset=test_dataset, batch_size=batch_size, shuffle=False)\n",
    "\n",
    "# plot samples\n",
    "examples = iter(train_loader)\n",
    "samples, labels = next(examples)\n",
    "print(samples.shape, labels.shape)\n",
    "\n",
    "for i in range(6):\n",
    "    plt.subplot(2, 3, i+1)\n",
    "    plt.imshow(samples[i][0], cmap=\"gray\") # [0] for first channel\n",
    "    \n",
    "img_grid = torchvision.utils.make_grid(samples)\n",
    "writer.add_image(\"mnist_images\", img_grid)\n",
    "    \n",
    "# define model\n",
    "class NeuralNet(nn.Module):\n",
    "    def __init__(self, input_size, hidden_size, num_classes=10):\n",
    "        super(NeuralNet, self).__init__()\n",
    "        self.layer1 = nn.Linear(input_size, hidden_size)\n",
    "        self.relu = nn.ReLU()\n",
    "        self.layer2 = nn.Linear(hidden_size, num_classes)\n",
    "        \n",
    "    def forward(self, x):\n",
    "        out = self.layer1(x)\n",
    "        out = self.relu(out)\n",
    "        out = self.layer2(out)\n",
    "        return out\n",
    "model = NeuralNet(input_size, hidden_size, num_classes)\n",
    "    \n",
    "    \n",
    "# define loss & optimizer\n",
    "criterion = nn.CrossEntropyLoss()\n",
    "optimizer = torch.optim.AdamW(model.parameters(), lr=learning_rate)\n",
    "\n",
    "writer.add_graph(model, samples.reshape(-1, 28*28))\n",
    "\n",
    "# training loop\n",
    "n_total_steps = len(train_loader)\n",
    "running_loss = 0.0\n",
    "running_correct = 0\n",
    "for epoch in range(n_epochs):\n",
    "    for i, (images, labels) in enumerate(train_loader):\n",
    "        # reshape images from 100 x 1 x 28 x 28 --> 100 x 784\n",
    "        images = images.reshape(-1, 28*28).to(device)\n",
    "        labels = labels.to(device)\n",
    "        \n",
    "        # forward\n",
    "        outputs = model(images)\n",
    "        loss = criterion(outputs, labels)\n",
    "\n",
    "        # backward\n",
    "        optimizer.zero_grad()\n",
    "        loss.backward()\n",
    "        optimizer.step()\n",
    "        \n",
    "        running_loss += loss.item()\n",
    "        \n",
    "        _, predictions = torch.max(outputs, axis=1)\n",
    "        running_correct += (predictions == labels).sum().item()\n",
    "        \n",
    "        if (i + 1) % 100 == 0:\n",
    "            print(f\"Epoch: {epoch + 1}/{n_epochs}, Step: {i+1}/{n_total_steps}, Loss: {loss.item():.4f}\")\n",
    "            writer.add_scalar(\"training loss\", running_loss/100, epoch * n_total_steps + i)\n",
    "            writer.add_scalar(\"training accuracy\", running_correct/100, epoch * n_total_steps + i)\n",
    "            running_loss = 0.0\n",
    "            running_correct = 0\n",
    "            \n",
    "# evaluation\n",
    "with torch.no_grad():\n",
    "    n_correct = 0\n",
    "    n_samples = 0\n",
    "    for images, labels in test_loader:\n",
    "        # reshape images from 100 x 1 x 28 x 28 --> 100 x 784\n",
    "        images = images.reshape(-1, 28*28).to(device)\n",
    "        labels = labels.to(device)\n",
    "        \n",
    "        outputs = model(images)\n",
    "        \n",
    "        # returns value, index and we are interested in \"index\"\n",
    "        _, predictions = torch.max(outputs, axis=1)\n",
    "        n_samples = n_samples + labels.shape[0]\n",
    "        \n",
    "        n_correct = (predictions == labels).sum().item()\n",
    "        \n",
    "    acc = 100.0 * (n_correct/n_samples)\n",
    "    print(f\"Accuracy: {acc}\")"
   ]
  },
  {
   "cell_type": "code",
   "execution_count": null,
   "id": "ae3302d1",
   "metadata": {},
   "outputs": [],
   "source": []
  }
 ],
 "metadata": {
  "kernelspec": {
   "display_name": "Python 3",
   "language": "python",
   "name": "python3"
  },
  "language_info": {
   "codemirror_mode": {
    "name": "ipython",
    "version": 3
   },
   "file_extension": ".py",
   "mimetype": "text/x-python",
   "name": "python",
   "nbconvert_exporter": "python",
   "pygments_lexer": "ipython3",
   "version": "3.8.16"
  },
  "toc": {
   "base_numbering": 1,
   "nav_menu": {},
   "number_sections": true,
   "sideBar": true,
   "skip_h1_title": false,
   "title_cell": "Table of Contents",
   "title_sidebar": "Contents",
   "toc_cell": false,
   "toc_position": {},
   "toc_section_display": true,
   "toc_window_display": false
  }
 },
 "nbformat": 4,
 "nbformat_minor": 5
}
