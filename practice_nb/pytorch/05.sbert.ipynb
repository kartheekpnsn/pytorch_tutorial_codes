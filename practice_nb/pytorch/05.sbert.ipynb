{
 "cells": [
  {
   "cell_type": "code",
   "execution_count": 1,
   "metadata": {},
   "outputs": [],
   "source": [
    "import torch\n",
    "import csv\n",
    "from torch import nn\n",
    "from transformers import AutoTokenizer, AutoModel\n",
    "from torch.utils.data import Dataset, DataLoader\n",
    "from datasets import load_dataset\n",
    "from sklearn.model_selection import train_test_split\n",
    "from tqdm.notebook import tqdm\n",
    "\n",
    "import random"
   ]
  },
  {
   "cell_type": "markdown",
   "metadata": {},
   "source": [
    "#### Load dataset"
   ]
  },
  {
   "cell_type": "code",
   "execution_count": null,
   "metadata": {},
   "outputs": [],
   "source": [
    "dataset = []\n",
    "with open(\"../../data/quora/quora_duplicate_questions.tsv\", encoding=\"utf-8\") as f:\n",
    "    data = csv.DictReader(f, delimiter=\"\\t\")\n",
    "    for idx, row in enumerate(data):\n",
    "        dataset.append(\n",
    "            {\n",
    "                \"questions\": [\n",
    "                    {\"id\": row[\"qid1\"], \"text\": row[\"question1\"]},\n",
    "                    {\"id\": row[\"qid2\"], \"text\": row[\"question2\"]},\n",
    "                ],\n",
    "                \"is_duplicate\": row[\"is_duplicate\"] == \"1\",\n",
    "            }\n",
    "        )\n",
    "dataset[0]"
   ]
  },
  {
   "cell_type": "code",
   "execution_count": null,
   "metadata": {},
   "outputs": [],
   "source": [
    "# Prepare triplet data from the dataset\n",
    "sentences = [\n",
    "    (item[\"questions\"][0][\"text\"], item[\"questions\"][1][\"text\"])\n",
    "    for item in tqdm(dataset)\n",
    "    if item[\"is_duplicate\"]\n",
    "]\n",
    "\n",
    "# train test split\n",
    "sentences, test_sentences = train_test_split(sentences, test_size=0.2, random_state=42)\n",
    "sentences, val_sentences = train_test_split(sentences, test_size=0.2, random_state=42)"
   ]
  },
  {
   "cell_type": "markdown",
   "metadata": {},
   "source": [
    "### Prepare Dataset and Dataloader"
   ]
  },
  {
   "cell_type": "code",
   "execution_count": 4,
   "metadata": {},
   "outputs": [],
   "source": [
    "MODEL_PATH = \"prajjwal1/bert-tiny\""
   ]
  },
  {
   "cell_type": "code",
   "execution_count": 5,
   "metadata": {},
   "outputs": [],
   "source": [
    "class TripletDataset(Dataset):\n",
    "    def __init__(self, sentences, tokenizer, max_length=128):\n",
    "        self.sentences = sentences\n",
    "        self.tokenizer = tokenizer\n",
    "        self.max_length = max_length\n",
    "\n",
    "    def __len__(self):\n",
    "        return len(self.sentences)\n",
    "\n",
    "    def __getitem__(self, idx):\n",
    "        anchor, positive = self.sentences[idx]\n",
    "        negative = self._get_negative_sample(anchor, positive)\n",
    "        return (\n",
    "            self.tokenizer(\n",
    "                anchor,\n",
    "                truncation=True,\n",
    "                padding=\"max_length\",\n",
    "                max_length=self.max_length,\n",
    "                return_tensors=\"pt\",\n",
    "            ),\n",
    "            self.tokenizer(\n",
    "                positive,\n",
    "                truncation=True,\n",
    "                padding=\"max_length\",\n",
    "                max_length=self.max_length,\n",
    "                return_tensors=\"pt\",\n",
    "            ),\n",
    "            self.tokenizer(\n",
    "                negative,\n",
    "                truncation=True,\n",
    "                padding=\"max_length\",\n",
    "                max_length=self.max_length,\n",
    "                return_tensors=\"pt\",\n",
    "            ),\n",
    "        )\n",
    "\n",
    "    def _get_negative_sample(self, anchor, positive):\n",
    "        \"\"\"Get a random sentence that is not the positive pair.\"\"\"\n",
    "        while True:\n",
    "            negative = random.choice(self.sentences)[0]\n",
    "            if negative != anchor and negative != positive:\n",
    "                return negative"
   ]
  },
  {
   "cell_type": "code",
   "execution_count": null,
   "metadata": {},
   "outputs": [],
   "source": [
    "tokenizer = AutoTokenizer.from_pretrained(MODEL_PATH)"
   ]
  },
  {
   "cell_type": "code",
   "execution_count": 7,
   "metadata": {},
   "outputs": [],
   "source": [
    "train_ds = TripletDataset(sentences, tokenizer)\n",
    "val_ds = TripletDataset(val_sentences, tokenizer)\n",
    "test_ds = TripletDataset(test_sentences, tokenizer)"
   ]
  },
  {
   "cell_type": "code",
   "execution_count": 8,
   "metadata": {},
   "outputs": [],
   "source": [
    "train_dl = DataLoader(train_ds, batch_size=32, shuffle=True)\n",
    "val_ds = DataLoader(val_ds, batch_size=32, shuffle=False)\n",
    "test_dl = DataLoader(test_ds, batch_size=32, shuffle=False)"
   ]
  },
  {
   "cell_type": "markdown",
   "metadata": {},
   "source": [
    "#### Define the model"
   ]
  },
  {
   "cell_type": "code",
   "execution_count": 9,
   "metadata": {},
   "outputs": [],
   "source": [
    "class TripletTransformer(nn.Module):\n",
    "    def __init__(self, model_name):\n",
    "        super(TripletTransformer, self).__init__()\n",
    "        self.encoder = AutoModel.from_pretrained(model_name)\n",
    "\n",
    "    def forward(self, anchor, positive, negative):\n",
    "        anchor_embeddings = self.encoder(**anchor).pooler_output\n",
    "        positive_embeddings = self.encoder(**positive).pooler_output\n",
    "        negative_embeddings = self.encoder(**negative).pooler_output\n",
    "\n",
    "        return anchor_embeddings, positive_embeddings, negative_embeddings\n",
    "\n",
    "\n",
    "class TripletTransformer(nn.Module):\n",
    "    def __init__(self, model_name):\n",
    "        super(TripletTransformer, self).__init__()\n",
    "        self.encoder = AutoModel.from_pretrained(model_name)\n",
    "\n",
    "    def forward(self, anchor, positive, negative):\n",
    "        def mean_pooling(model_output, attention_mask):\n",
    "            token_embeddings = model_output.last_hidden_state\n",
    "            # Perform mean pooling\n",
    "            input_mask_expanded = (\n",
    "                attention_mask.unsqueeze(-1).expand(token_embeddings.size()).float()\n",
    "            )\n",
    "            return torch.sum(token_embeddings * input_mask_expanded, 1) / torch.clamp(\n",
    "                input_mask_expanded.sum(1), min=1e-9\n",
    "            )\n",
    "\n",
    "        anchor_output = self.encoder(**anchor)\n",
    "        anchor_embeddings = mean_pooling(anchor_output, anchor[\"attention_mask\"])\n",
    "\n",
    "        positive_output = self.encoder(**positive)\n",
    "        positive_embeddings = mean_pooling(positive_output, positive[\"attention_mask\"])\n",
    "\n",
    "        negative_output = self.encoder(**negative)\n",
    "        negative_embeddings = mean_pooling(negative_output, negative[\"attention_mask\"])\n",
    "\n",
    "        return anchor_embeddings, positive_embeddings, negative_embeddings"
   ]
  },
  {
   "cell_type": "markdown",
   "metadata": {},
   "source": [
    "#### Instantiate Model and Define Loss & Optimizer"
   ]
  },
  {
   "cell_type": "code",
   "execution_count": 10,
   "metadata": {},
   "outputs": [],
   "source": [
    "class TripletLoss(nn.Module):\n",
    "    def __init__(self, margin=1.0):\n",
    "        super(TripletLoss, self).__init__()\n",
    "        self.margin = margin\n",
    "        self.loss_fn = nn.TripletMarginLoss(margin=self.margin, p=2)\n",
    "\n",
    "    def forward(self, anchor, positive, negative):\n",
    "        return self.loss_fn(anchor, positive, negative)"
   ]
  },
  {
   "cell_type": "code",
   "execution_count": null,
   "metadata": {},
   "outputs": [],
   "source": [
    "model = TripletTransformer(model_name=MODEL_PATH)\n",
    "\n",
    "loss_fn = TripletLoss(margin=1.0)\n",
    "optimizer = torch.optim.AdamW(model.parameters(), lr=1e-5)"
   ]
  },
  {
   "cell_type": "markdown",
   "metadata": {},
   "source": [
    "#### Start training"
   ]
  },
  {
   "cell_type": "code",
   "execution_count": 12,
   "metadata": {},
   "outputs": [],
   "source": [
    "def train_epoch(model, dataloader, loss_fn, optimzer, device):\n",
    "    model.train()\n",
    "    train_loss = 0\n",
    "    for i, batch in enumerate(dataloader):\n",
    "        anchor, positive, negative = batch\n",
    "\n",
    "        anchor = {key: val.squeeze(1) for key, val in anchor.items()}\n",
    "        positive = {key: val.squeeze(1) for key, val in positive.items()}\n",
    "        negative = {key: val.squeeze(1) for key, val in negative.items()}\n",
    "\n",
    "        anchor_embeddings, positive_embeddings, negative_embeddings = model(\n",
    "            anchor, positive, negative\n",
    "        )\n",
    "\n",
    "        loss = loss_fn(anchor_embeddings, positive_embeddings, negative_embeddings)\n",
    "\n",
    "        optimizer.zero_grad()\n",
    "        loss.backward()\n",
    "        optimizer.step()\n",
    "\n",
    "        train_loss += loss.item()\n",
    "    epoch_loss = train_loss / len(dataloader)\n",
    "    return epoch_loss"
   ]
  },
  {
   "cell_type": "code",
   "execution_count": 13,
   "metadata": {},
   "outputs": [],
   "source": [
    "def evaluate(model, dataloader, loss_fn, device):\n",
    "    model.eval()\n",
    "    val_loss = 0\n",
    "    with torch.no_grad():\n",
    "        for i, batch in enumerate(dataloader):\n",
    "            anchor, positive, negative = batch\n",
    "\n",
    "            anchor = {key: val.squeeze(1) for key, val in anchor.items()}\n",
    "            positive = {key: val.squeeze(1) for key, val in positive.items()}\n",
    "            negative = {key: val.squeeze(1) for key, val in negative.items()}\n",
    "\n",
    "            anchor_embeddings, positive_embeddings, negative_embeddings = model(\n",
    "                anchor, positive, negative\n",
    "            )\n",
    "\n",
    "            loss = loss_fn(anchor_embeddings, positive_embeddings, negative_embeddings)\n",
    "            val_loss += loss.item()\n",
    "    epoch_loss = val_loss / len(dataloader)\n",
    "    return epoch_loss"
   ]
  },
  {
   "cell_type": "code",
   "execution_count": 14,
   "metadata": {},
   "outputs": [],
   "source": [
    "device = torch.device(\"cuda\" if torch.cuda.is_available() else \"cpu\")"
   ]
  },
  {
   "cell_type": "code",
   "execution_count": null,
   "metadata": {},
   "outputs": [],
   "source": [
    "n_epochs = 100\n",
    "verbose = 2\n",
    "train_losses = []\n",
    "val_losses = []\n",
    "\n",
    "for epoch in tqdm(range(n_epochs)):\n",
    "    train_loss = train_epoch(model, train_dl, loss_fn, optimizer, device)\n",
    "    val_loss, val_accuracy = evaluate(model, val_dl, loss_fn, device)\n",
    "\n",
    "    train_losses.append(train_loss)\n",
    "    val_losses.append(val_loss)\n",
    "\n",
    "    if verbose and (epoch + 1) % verbose == 0:\n",
    "        print(\n",
    "            f\"Epoch {epoch + 1}/{n_epochs} | Train Loss: {train_loss:.4f} | Val Loss: {val_loss:.4f} | Val Acc: {val_accuracy:.4f}\"\n",
    "        )\n",
    "\n",
    "print(\"Training complete.\")"
   ]
  }
 ],
 "metadata": {
  "kernelspec": {
   "display_name": "Python 3",
   "language": "python",
   "name": "python3"
  },
  "language_info": {
   "codemirror_mode": {
    "name": "ipython",
    "version": 3
   },
   "file_extension": ".py",
   "mimetype": "text/x-python",
   "name": "python",
   "nbconvert_exporter": "python",
   "pygments_lexer": "ipython3",
   "version": "3.10.14"
  }
 },
 "nbformat": 4,
 "nbformat_minor": 2
}
