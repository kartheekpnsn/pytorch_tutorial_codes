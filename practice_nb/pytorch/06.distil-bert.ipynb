{
 "cells": [
  {
   "cell_type": "code",
   "execution_count": 1,
   "metadata": {},
   "outputs": [],
   "source": [
    "import os\n",
    "import torch\n",
    "import pandas as pd\n",
    "import torch.nn as nn\n",
    "import numpy as np\n",
    "import matplotlib.pyplot as plt\n",
    "\n",
    "from tqdm.notebook import tqdm\n",
    "from sklearn.model_selection import train_test_split\n",
    "from torch.utils.data import DataLoader, Dataset\n",
    "from transformers import AutoModelForMaskedLM, AutoTokenizer"
   ]
  },
  {
   "cell_type": "code",
   "execution_count": 2,
   "metadata": {},
   "outputs": [],
   "source": [
    "device = torch.device(\"cuda\" if torch.cuda.is_available() else \"cpu\")"
   ]
  },
  {
   "cell_type": "markdown",
   "metadata": {
    "vscode": {
     "languageId": "plaintext"
    }
   },
   "source": [
    "#### Load dataset"
   ]
  },
  {
   "cell_type": "code",
   "execution_count": 3,
   "metadata": {},
   "outputs": [],
   "source": [
    "train_data = pd.read_parquet(f\"../../data/wikitext/train-00000-of-00001.parquet\")[\n",
    "    \"text\"\n",
    "].to_numpy()\n",
    "val_data = pd.read_parquet(f\"../../data/wikitext/validation-00000-of-00001.parquet\")[\n",
    "    \"text\"\n",
    "].to_numpy()\n",
    "test_data = pd.read_parquet(f\"../../data/wikitext/test-00000-of-00001.parquet\")[\n",
    "    \"text\"\n",
    "].to_numpy()"
   ]
  },
  {
   "cell_type": "markdown",
   "metadata": {},
   "source": [
    "#### Prepare Dataset and Dataloader"
   ]
  },
  {
   "cell_type": "code",
   "execution_count": 4,
   "metadata": {},
   "outputs": [],
   "source": [
    "MODEL_PATH = \"prajjwal1/bert-tiny\""
   ]
  },
  {
   "cell_type": "code",
   "execution_count": 5,
   "metadata": {},
   "outputs": [],
   "source": [
    "class DistilDataset(Dataset):\n",
    "    def __init__(self, sentences, tokenizer, max_length=128):\n",
    "        self.sentences = sentences\n",
    "        self.tokenizer = tokenizer\n",
    "        self.max_length = max_length\n",
    "\n",
    "    def __len__(self):\n",
    "        return len(self.sentences)\n",
    "\n",
    "    def __getitem__(self, idx):\n",
    "        sentence = self.sentences[idx]\n",
    "        return sentence, self.tokenizer(\n",
    "            sentence,\n",
    "            truncation=True,\n",
    "            padding=\"max_length\",\n",
    "            max_length=self.max_length,\n",
    "            return_tensors=\"pt\",\n",
    "        )"
   ]
  },
  {
   "cell_type": "code",
   "execution_count": null,
   "metadata": {},
   "outputs": [],
   "source": [
    "tokenizer = AutoTokenizer.from_pretrained(MODEL_PATH)"
   ]
  },
  {
   "cell_type": "code",
   "execution_count": 7,
   "metadata": {},
   "outputs": [],
   "source": [
    "train_ds = DistilDataset(train_data, tokenizer)\n",
    "val_ds = DistilDataset(val_data, tokenizer)\n",
    "test_ds = DistilDataset(test_data, tokenizer)"
   ]
  },
  {
   "cell_type": "code",
   "execution_count": 8,
   "metadata": {},
   "outputs": [],
   "source": [
    "train_dl = DataLoader(train_ds, batch_size=32, shuffle=True)\n",
    "val_ds = DataLoader(val_ds, batch_size=32, shuffle=False)\n",
    "test_dl = DataLoader(test_ds, batch_size=32, shuffle=False)"
   ]
  },
  {
   "cell_type": "markdown",
   "metadata": {},
   "source": [
    "#### Define model"
   ]
  },
  {
   "cell_type": "code",
   "execution_count": 9,
   "metadata": {},
   "outputs": [],
   "source": [
    "class TinyBERT(nn.Module):\n",
    "    def __init__(self, vocab_size, hidden_dim=256, num_heads=4, num_layers=4):\n",
    "        super(TinyBERT, self).__init__()\n",
    "        self.embedding = nn.Embedding(vocab_size, hidden_dim)\n",
    "        self.encoder_layers = nn.ModuleList(\n",
    "            [\n",
    "                nn.TransformerEncoderLayer(d_model=hidden_dim, nhead=num_heads)\n",
    "                for _ in range(num_layers)\n",
    "            ]\n",
    "        )\n",
    "        self.linear = nn.Linear(hidden_dim, vocab_size)\n",
    "\n",
    "    def forward(self, x, attention_mask=None):\n",
    "        x = self.embedding(x)\n",
    "\n",
    "        # Apply attention mask if provided\n",
    "        if attention_mask is not None:\n",
    "            # Expand dimensions of mask to match input for broadcasting\n",
    "            attention_mask = attention_mask.unsqueeze(-1)\n",
    "            x = x * attention_mask\n",
    "\n",
    "        for layer in self.encoder_layers:\n",
    "            x = layer(x)\n",
    "        logits = self.linear(x)\n",
    "        return logits"
   ]
  },
  {
   "cell_type": "markdown",
   "metadata": {},
   "source": [
    "#### Instantiate Model and Define Loss & Optimizer"
   ]
  },
  {
   "cell_type": "code",
   "execution_count": 10,
   "metadata": {},
   "outputs": [],
   "source": [
    "def manual_distillation_loss(student_logits, teacher_logits, temperature=2):\n",
    "    \"\"\"Distillation loss function\"\"\"\n",
    "    student_probs = nn.functional.log_softmax(student_logits / temperature, dim=-1)\n",
    "    teacher_probs = nn.functional.softmax(teacher_logits / temperature, dim=-1)\n",
    "    loss = (\n",
    "        torch.sum(teacher_probs * (teacher_probs.log() - student_probs))\n",
    "        / student_probs.size()[0]\n",
    "        * (temperature**2)\n",
    "    )\n",
    "    return loss\n",
    "\n",
    "\n",
    "def distillation_loss(student_logits, teacher_logits, temperature=2):\n",
    "    \"\"\"Distillation loss function\"\"\"\n",
    "    loss = nn.KLDivLoss(reduction=\"batchmean\")\n",
    "    student_probs = nn.functional.log_softmax(student_logits / temperature, dim=-1)\n",
    "    teacher_probs = nn.functional.softmax(teacher_logits / temperature, dim=-1)\n",
    "    return loss(student_probs, teacher_probs)"
   ]
  },
  {
   "cell_type": "code",
   "execution_count": null,
   "metadata": {},
   "outputs": [],
   "source": [
    "teacher_model = AutoModelForMaskedLM.from_pretrained(MODEL_PATH).to(device)\n",
    "student_model = TinyBERT(vocab_size=tokenizer.vocab_size).to(device)\n",
    "\n",
    "loss_fn = nn.CrossEntropyLoss()\n",
    "optimizer = torch.optim.AdamW(student_model.parameters(), lr=1e-4)"
   ]
  },
  {
   "cell_type": "markdown",
   "metadata": {},
   "source": [
    "#### Start training"
   ]
  },
  {
   "cell_type": "code",
   "execution_count": 12,
   "metadata": {},
   "outputs": [],
   "source": [
    "num_epochs = 10"
   ]
  },
  {
   "cell_type": "code",
   "execution_count": null,
   "metadata": {},
   "outputs": [],
   "source": [
    "student_model.train()\n",
    "teacher_model.eval()\n",
    "\n",
    "for epoch in range(num_epochs):\n",
    "    print(f\"Epoch {epoch + 1}/{num_epochs}, Started..\")\n",
    "    total_loss = 0\n",
    "    for batch in train_dl:\n",
    "        sentence, batch = batch\n",
    "        embed_dim = batch[\"input_ids\"].size()[2]\n",
    "        inputs = batch[\"input_ids\"].view(-1, embed_dim).to(device)\n",
    "        attention_mask = batch[\"attention_mask\"].view(-1, embed_dim).to(device)\n",
    "\n",
    "        with torch.no_grad():\n",
    "            teacher_logits = teacher_model(inputs, attention_mask=attention_mask).logits\n",
    "\n",
    "        student_logits = student_model(inputs, attention_mask=None)\n",
    "\n",
    "        loss_distillation = distillation_loss(\n",
    "            student_logits, teacher_logits, temperature=0.1\n",
    "        )\n",
    "        loss_ce = loss_fn(\n",
    "            student_logits.view(-1, student_logits.size(-1)), inputs.view(-1)\n",
    "        )\n",
    "\n",
    "        loss = loss_distillation + loss_ce\n",
    "\n",
    "        optimizer.zero_grad()\n",
    "        loss.backward()\n",
    "        optimizer.step()\n",
    "\n",
    "        total_loss += loss.item()\n",
    "\n",
    "    print(f\"Epoch {epoch + 1}/{num_epochs}, Loss: {total_loss / len(train_dl)}\")"
   ]
  },
  {
   "cell_type": "markdown",
   "metadata": {},
   "source": [
    "#### Run evaluation"
   ]
  },
  {
   "cell_type": "code",
   "execution_count": null,
   "metadata": {},
   "outputs": [],
   "source": [
    "teacher_model.eval()\n",
    "total_loss = 0\n",
    "total_correct = 0\n",
    "total_count = 0\n",
    "\n",
    "with torch.no_grad():\n",
    "    for batch in test_dl:\n",
    "        sentence, batch = batch\n",
    "        inputs = batch[\"input_ids\"].to(device)\n",
    "        attention_mask = batch[\"attention_mask\"].to(device)\n",
    "\n",
    "        # Handle logits extraction for both types of models\n",
    "        outputs = teacher_model(inputs, attention_mask=attention_mask)\n",
    "        if isinstance(outputs, tuple) or hasattr(outputs, \"logits\"):\n",
    "            logits = outputs.logits  # Hugging Face model\n",
    "        else:\n",
    "            logits = outputs  # TinyBERT\n",
    "\n",
    "        # For loss: Compare logits with true inputs (MLM task)\n",
    "        loss = loss_fn(logits.view(-1, logits.size(-1)), inputs.view(-1))\n",
    "        total_loss += loss.item()\n",
    "\n",
    "        # For accuracy: Check if the highest logits match the true labels\n",
    "        predictions = torch.argmax(logits, dim=-1)\n",
    "        total_correct += (predictions == inputs).sum().item()\n",
    "        total_count += inputs.numel()\n",
    "\n",
    "avg_loss = total_loss / len(dataloader)\n",
    "accuracy = total_correct / total_count\n",
    "print(f\"Teacher Model - Loss: {avg_loss:.4f}, Accuracy: {accuracy:.4f}\")"
   ]
  },
  {
   "cell_type": "code",
   "execution_count": null,
   "metadata": {},
   "outputs": [],
   "source": [
    "student_model.eval()\n",
    "total_loss = 0\n",
    "total_correct = 0\n",
    "total_count = 0\n",
    "\n",
    "with torch.no_grad():\n",
    "    for batch in test_dl:\n",
    "        sentence, batch = batch\n",
    "        inputs = batch[\"input_ids\"].to(device)\n",
    "        attention_mask = batch[\"attention_mask\"].to(device)\n",
    "\n",
    "        # Handle logits extraction for both types of models\n",
    "        outputs = student_model(inputs, attention_mask=attention_mask)\n",
    "        if isinstance(outputs, tuple) or hasattr(outputs, \"logits\"):\n",
    "            logits = outputs.logits  # Hugging Face model\n",
    "        else:\n",
    "            logits = outputs  # TinyBERT\n",
    "\n",
    "        # For loss: Compare logits with true inputs (MLM task)\n",
    "        loss = criterion(logits.view(-1, logits.size(-1)), inputs.view(-1))\n",
    "        total_loss += loss.item()\n",
    "\n",
    "        # For accuracy: Check if the highest logits match the true labels\n",
    "        predictions = torch.argmax(logits, dim=-1)\n",
    "        total_correct += (predictions == inputs).sum().item()\n",
    "        total_count += inputs.numel()\n",
    "\n",
    "avg_loss = total_loss / len(dataloader)\n",
    "accuracy = total_correct / total_count\n",
    "print(f\"Student Model - Loss: {avg_loss:.4f}, Accuracy: {accuracy:.4f}\")"
   ]
  }
 ],
 "metadata": {
  "kernelspec": {
   "display_name": "Python 3",
   "language": "python",
   "name": "python3"
  },
  "language_info": {
   "codemirror_mode": {
    "name": "ipython",
    "version": 3
   },
   "file_extension": ".py",
   "mimetype": "text/x-python",
   "name": "python",
   "nbconvert_exporter": "python",
   "pygments_lexer": "ipython3",
   "version": "3.10.14"
  }
 },
 "nbformat": 4,
 "nbformat_minor": 2
}
